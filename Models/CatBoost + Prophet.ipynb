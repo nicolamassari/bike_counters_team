{
 "cells": [
  {
   "cell_type": "code",
   "execution_count": 28,
   "id": "0937c797-42f1-4f14-a370-62229bf9ea68",
   "metadata": {},
   "outputs": [],
   "source": [
    "# Preprocessing\n",
    "from pathlib import Path\n",
    "import numpy as np\n",
    "import pandas as pd\n",
    "from sklearn.preprocessing import FunctionTransformer\n",
    "from sklearn.model_selection import TimeSeriesSplit, GridSearchCV\n",
    "import regex as re\n",
    "\n",
    "# from workalendar.europe import France\n",
    "\n",
    "# Visualization\n",
    "import matplotlib.pyplot as plt\n",
    "import seaborn as sns\n",
    "\n",
    "# Modelling\n",
    "from sklearn.metrics import mean_squared_error\n",
    "from sklearn.pipeline import Pipeline\n",
    "from catboost import CatBoostRegressor, Pool\n",
    "from prophet import Prophet\n",
    "\n",
    "plt.style.use(\"fivethirtyeight\")\n",
    "\n",
    "path = Path.cwd().parent / \"mdsb-2023\""
   ]
  },
  {
   "cell_type": "code",
   "execution_count": 19,
   "id": "1ebdefdd",
   "metadata": {},
   "outputs": [],
   "source": [
    "from sklearn.compose import ColumnTransformer\n",
    "from sklearn.preprocessing import (\n",
    "    OneHotEncoder,\n",
    "    LabelEncoder,\n",
    "    OrdinalEncoder,\n",
    "    StandardScaler,\n",
    ")\n",
    "\n",
    "import xgboost as xgb\n",
    "from timeit import default_timer as timer\n",
    "\n",
    "plt.style.use(\"fivethirtyeight\")"
   ]
  },
  {
   "cell_type": "markdown",
   "id": "0de44f98-4ba0-4040-945d-fba6bf258675",
   "metadata": {
    "tags": []
   },
   "source": [
    "### General functions"
   ]
  },
  {
   "cell_type": "code",
   "execution_count": 56,
   "id": "7593f999",
   "metadata": {},
   "outputs": [],
   "source": [
    "def train_test_split_temporal(X, y, delta_threshold=\"60 days\", date_col=\"date\"):\n",
    "\n",
    "    cutoff_date = X[date_col].max() - pd.Timedelta(delta_threshold)\n",
    "    mask = X[date_col] <= cutoff_date\n",
    "    X_train, X_valid = X.loc[mask], X.loc[~mask]\n",
    "    y_train, y_valid = y[mask], y[~mask]\n",
    "\n",
    "    return X_train, y_train, X_valid, y_valid"
   ]
  },
  {
   "cell_type": "code",
   "execution_count": 21,
   "id": "bb2e3a24",
   "metadata": {},
   "outputs": [],
   "source": [
    "def add_lags(X, cols_to_lag=[\"t\", \"u\", \"vv\", \"nnuage4\"], lag_list=[2, -24, -2]):\n",
    "    X = X.copy()\n",
    "\n",
    "    feature_columns = [col for col in X.columns if col in cols_to_lag]\n",
    "\n",
    "    for l in lag_list:\n",
    "        lag_columns = [f\"{col}_lag{l}\" for col in feature_columns]\n",
    "        X[lag_columns] = X[feature_columns].shift(periods=l, axis=0)\n",
    "        X[lag_columns] = (\n",
    "            X[lag_columns]\n",
    "            .interpolate(method=\"linear\")\n",
    "            .interpolate(method=\"bfill\")\n",
    "            .interpolate(method=\"ffill\")\n",
    "        )\n",
    "\n",
    "    return X\n",
    "\n",
    "\n",
    "def add_moving_average(\n",
    "    X, cols_to_ma=[\"t\", \"u\", \"vv\", \"nnuage4\"], window_list=[24 * 7, 24], centered=True\n",
    "):\n",
    "    X = X.copy()\n",
    "\n",
    "    feature_columns = [col for col in X.columns if col in cols_to_ma]\n",
    "\n",
    "    for w in window_list:\n",
    "        ma_columns = [f\"{col}_ma{w}\" for col in feature_columns]\n",
    "        X[ma_columns] = X[feature_columns].rolling(window=w, center=centered).mean()\n",
    "        X[ma_columns] = (\n",
    "            X[ma_columns]\n",
    "            .interpolate(method=\"linear\")\n",
    "            .interpolate(method=\"bfill\")\n",
    "            .interpolate(method=\"ffill\")\n",
    "        )\n",
    "\n",
    "    return X"
   ]
  },
  {
   "cell_type": "markdown",
   "id": "cf841c63",
   "metadata": {
    "tags": []
   },
   "source": [
    "### Pipeline functions"
   ]
  },
  {
   "cell_type": "code",
   "execution_count": 70,
   "id": "8197a596-43eb-46e3-8459-d64d91f02c89",
   "metadata": {},
   "outputs": [],
   "source": [
    "def _encode_dates(X, col_name=\"date\"):\n",
    "    X = X.copy()\n",
    "\n",
    "    X[\"month\"] = X[col_name].dt.month\n",
    "    X[\"weekday\"] = X[col_name].dt.weekday\n",
    "    X[\"hour\"] = X[col_name].dt.hour\n",
    "\n",
    "    X[\"month_sin\"] = np.sin(2 * np.pi * X[\"date\"].dt.month / 12)\n",
    "    X[\"month_cos\"] = np.cos(2 * np.pi * X[\"date\"].dt.month / 12)\n",
    "\n",
    "    X[\"day_sin\"] = np.sin(2 * np.pi * X[\"date\"].dt.day / X[\"date\"].dt.days_in_month)\n",
    "    X[\"day_cos\"] = np.cos(2 * np.pi * X[\"date\"].dt.day / X[\"date\"].dt.days_in_month)\n",
    "\n",
    "    X[\"hour_sin\"] = np.sin(2 * np.pi * X[\"date\"].dt.hour / 24)\n",
    "    X[\"hour_cos\"] = np.cos(2 * np.pi * X[\"date\"].dt.hour / 24)\n",
    "\n",
    "    X[[\"month\", \"weekday\", \"hour\"]] = X[[\"month\", \"weekday\", \"hour\"]].astype(\"category\")\n",
    "\n",
    "    return X.drop(columns=[col_name])\n",
    "\n",
    "\n",
    "def _encode_covid(X, col_name=\"date\"):\n",
    "    X = X.copy()\n",
    "\n",
    "    # Create masks for lockdown dates\n",
    "    lockdown_1 = (X[\"date\"] >= \"2020-10-17\") & (X[\"date\"] <= \"2020-12-14\")\n",
    "\n",
    "    lockdown_2 = (X[\"date\"] >= \"2020-12-15\") & (X[\"date\"] <= \"2021-02-26\")\n",
    "\n",
    "    lockdown_3 = (X[\"date\"] >= \"2021-02-27\") & (X[\"date\"] <= \"2021-05-02\")\n",
    "\n",
    "    X[\"Covid\"] = 0\n",
    "    X.loc[lockdown_1 | lockdown_2 | lockdown_3, \"Covid\"] = 1\n",
    "\n",
    "    return X\n",
    "\n",
    "\n",
    "def _merge_external_data(X, include_lags=True, include_ma=True):\n",
    "    to_keep = [\n",
    "        \"date\",\n",
    "        \"hnuage4\",\n",
    "        \"t\",\n",
    "        \"ctype4\",\n",
    "        \"nnuage4\",\n",
    "        \"u\",\n",
    "        \"etat_sol\",\n",
    "        \"perssfrai\",\n",
    "        \"tx12\",\n",
    "        \"cm\",\n",
    "        \"tn12\",\n",
    "        \"tend24\",\n",
    "        \"vv\",\n",
    "        \"rafper\",\n",
    "        \"rr24\",\n",
    "        \"hnuage2\",\n",
    "        \"td\",\n",
    "        \"rr3\",\n",
    "        \"hnuage3\",\n",
    "        \"hnuage1\",\n",
    "    ]\n",
    "\n",
    "    ext_data = pd.read_csv(path / \"external_data.csv\", parse_dates=[\"date\"])[to_keep]\n",
    "\n",
    "    ext_data.drop(columns=ext_data.columns[ext_data.isna().sum() > 1000])\n",
    "\n",
    "    full_date_range = pd.date_range(\n",
    "        start=np.min([np.min(data.date), np.min(test.date)]),\n",
    "        end=np.max([np.max(data.date), np.max(test.date)]),\n",
    "        freq=\"H\",\n",
    "    )\n",
    "\n",
    "    full_date_range = pd.DataFrame({\"date\": full_date_range})\n",
    "\n",
    "    ext_data = full_date_range.merge(ext_data, on=\"date\", how=\"left\")\n",
    "\n",
    "    columns_to_interpolate = ext_data.drop(columns=\"date\").columns\n",
    "    ext_data[columns_to_interpolate] = (\n",
    "        ext_data[columns_to_interpolate]\n",
    "        .interpolate(method=\"polynomial\", order=3)\n",
    "        .interpolate(method=\"bfill\")\n",
    "        .interpolate(method=\"ffill\")\n",
    "    )\n",
    "\n",
    "    if include_lags:\n",
    "        ext_data = add_lags(ext_data)\n",
    "\n",
    "    if include_ma:\n",
    "        ext_data = add_moving_average(ext_data)\n",
    "\n",
    "    to_drop = [\n",
    "        \"vv_lag2\",\n",
    "        \"t_lag-24\",\n",
    "        \"u_lag-24\",\n",
    "        \"vv_lag-24\",\n",
    "        \"tx12\",\n",
    "        \"nnuage4_lag-2\",\n",
    "        \"etat_sol\",\n",
    "        \"vv_lag-2\",\n",
    "        \"u\",\n",
    "        \"nnuage4\",\n",
    "        \"ctype4\",\n",
    "        \"t\",\n",
    "        \"u_lag2\",\n",
    "        \"vv_ma24\",\n",
    "        \"t_lag2\",\n",
    "        \"tend24\",\n",
    "        \"u_ma24\",\n",
    "        \"nnuage4_ma24\",\n",
    "        \"vv_ma168\",\n",
    "        \"cm\",\n",
    "        \"hnuage1\",\n",
    "        \"hnuage3\",\n",
    "        \"rr3\",\n",
    "        \"td\",\n",
    "        \"hnuage2\",\n",
    "        \"rr24\",\n",
    "        \"rafper\",\n",
    "        \"vv\",\n",
    "        \"u_ma168\",\n",
    "        \"hnuage4\",\n",
    "    ]\n",
    "\n",
    "    ext_data.drop(columns=to_drop, inplace=True)\n",
    "\n",
    "    X = X.copy()\n",
    "\n",
    "    X[\"date\"] = X[\"date\"].astype(\"datetime64[ns]\")\n",
    "    ext_data[\"date\"] = ext_data[\"date\"].astype(\"datetime64[ns]\")\n",
    "\n",
    "    X[\"orig_index\"] = np.arange(X.shape[0])\n",
    "\n",
    "    X = pd.merge_asof(X.sort_values(\"date\"), ext_data.sort_values(\"date\"), on=\"date\")\n",
    "\n",
    "    # Sort back to the original order\n",
    "    X = X.sort_values(\"orig_index\")\n",
    "    del X[\"orig_index\"]\n",
    "\n",
    "    return X\n",
    "\n",
    "\n",
    "def _gas_price_encoder(X):\n",
    "    X = X.copy()\n",
    "    X[\"gas_price\"] = 1\n",
    "\n",
    "    gas_prices = np.array(\n",
    "        [\n",
    "            1.22,\n",
    "            1.21,\n",
    "            1.22,\n",
    "            1.27,\n",
    "            1.31,\n",
    "            1.36,\n",
    "            1.4,\n",
    "            1.39,\n",
    "            1.4,\n",
    "            1.43,\n",
    "            1.45,\n",
    "            1.45,\n",
    "            1.46,\n",
    "            1.56,\n",
    "        ]\n",
    "    )\n",
    "\n",
    "    years = [\n",
    "        2020,\n",
    "        2020,\n",
    "        2020,\n",
    "        2020,\n",
    "        2021,\n",
    "        2021,\n",
    "        2021,\n",
    "        2021,\n",
    "        2021,\n",
    "        2021,\n",
    "        2021,\n",
    "        2021,\n",
    "        2021,\n",
    "        2021,\n",
    "    ]\n",
    "\n",
    "    months = [9, 10, 11, 12, 1, 2, 3, 4, 5, 6, 7, 8, 9, 10]\n",
    "\n",
    "    for i, price in enumerate(gas_prices):\n",
    "        X.loc[\n",
    "            (X.date.dt.month == months[i]) & (X.date.dt.year == years[i]), \"gas_price\"\n",
    "        ] = price\n",
    "\n",
    "    return X\n",
    "\n",
    "\n",
    "def full_encode(X):\n",
    "    return _encode_dates(\n",
    "        _encode_covid(_gas_price_encoder(_merge_external_data(_merge_prophet(X))))\n",
    "    )"
   ]
  },
  {
   "cell_type": "markdown",
   "id": "0958f12c",
   "metadata": {},
   "source": [
    "### Model functions"
   ]
  },
  {
   "cell_type": "code",
   "execution_count": 23,
   "id": "238105ed",
   "metadata": {},
   "outputs": [],
   "source": [
    "def prophet_fit_pred(\n",
    "    data, group, test_delta=pd.Timedelta(\"60 days\"), plot_components=False\n",
    "):\n",
    "    data = data.copy()\n",
    "    data[\"floor\"] = 0\n",
    "\n",
    "    data = data[\n",
    "        data[\"group\"] == group\n",
    "    ]  # To test on a single group only, for simplicity\n",
    "\n",
    "    data = data[[\"ds\", \"y\"]]\n",
    "\n",
    "    # Define the test set for prophet as the last 60 days\n",
    "    cutoff_date = data[\"ds\"].max() - test_delta\n",
    "    mask = data[\"ds\"] <= cutoff_date\n",
    "    train_prophet, test_prophet = data.loc[mask], data.loc[~mask]\n",
    "\n",
    "    # Initialize the model\n",
    "    prophet = Prophet(\n",
    "        interval_width=0.95,\n",
    "        growth=\"linear\",\n",
    "        daily_seasonality=True,\n",
    "        weekly_seasonality=True,\n",
    "        yearly_seasonality=False,\n",
    "        seasonality_mode=\"multiplicative\",\n",
    "    )\n",
    "\n",
    "    # Add French holidays\n",
    "    prophet.add_country_holidays(country_name=\"FR\")\n",
    "\n",
    "    prophet.fit(train_prophet)\n",
    "\n",
    "    future = prophet.make_future_dataframe(\n",
    "        periods=test_delta.days * 24, freq=\"h\", include_history=True\n",
    "    )\n",
    "\n",
    "    # predict over the dataset\n",
    "    components = prophet.predict(future)\n",
    "\n",
    "    pred = components.iloc[-60 * 24 :, [0, -1]]  # Only keep the predicted\n",
    "\n",
    "    if plot_components:\n",
    "        prophet.plot_components(components)\n",
    "\n",
    "    return pred, test_prophet, components"
   ]
  },
  {
   "cell_type": "code",
   "execution_count": 78,
   "id": "40a09aa6-723b-461c-bf42-23609bd95346",
   "metadata": {},
   "outputs": [],
   "source": [
    "def _merge_prophet(X):\n",
    "    X = X.copy()\n",
    "\n",
    "    X[\"orig_index\"] = np.arange(X.shape[0])\n",
    "    X = pd.merge(\n",
    "        X.sort_values([\"date\", \"counter_name\"]),\n",
    "        prophet_fit.sort_values([\"date\", \"counter_name\"]),\n",
    "        on=[\"date\", \"counter_name\"],\n",
    "    )\n",
    "\n",
    "    # Sort back to the original order\n",
    "    X = X.sort_values(\"orig_index\")\n",
    "    del X[\"orig_index\"]\n",
    "    return X"
   ]
  },
  {
   "cell_type": "code",
   "execution_count": 79,
   "id": "865f59e7-a93a-4e73-8a43-27afe0ecfcde",
   "metadata": {},
   "outputs": [],
   "source": [
    "def get_pipeline():\n",
    "    prophet_merger = FunctionTransformer(_merge_prophet, validate=False)\n",
    "    data_merger = FunctionTransformer(_merge_external_data, validate=False)\n",
    "    covid_encoder = FunctionTransformer(_encode_covid, validate=False)\n",
    "    gas_encoder = FunctionTransformer(_gas_price_encoder, validate=False)\n",
    "    date_encoder = FunctionTransformer(_encode_dates, validate=False)\n",
    "\n",
    "    best_params = {\n",
    "        \"learning_rate\": 0.16,\n",
    "        \"max_depth\": 8,\n",
    "        \"n_estimators\": 630,\n",
    "        \"subsample\": 0.8,\n",
    "        \"od_pval\": 1e-5,\n",
    "    }\n",
    "\n",
    "    regressor = CatBoostRegressor(**best_params)\n",
    "\n",
    "    pipe = Pipeline(\n",
    "        [\n",
    "            (\"merge prophet\", prophet_merger),\n",
    "            (\"merge external\", data_merger),\n",
    "            (\"gas prices encoder\", gas_encoder),\n",
    "            (\"covid encoder\", covid_encoder),\n",
    "            (\"date encoder\", date_encoder),\n",
    "            (\"regressor\", regressor),\n",
    "        ]\n",
    "    )\n",
    "\n",
    "    return pipe"
   ]
  },
  {
   "cell_type": "markdown",
   "id": "3acd8529",
   "metadata": {},
   "source": [
    "## Import main dataset"
   ]
  },
  {
   "cell_type": "code",
   "execution_count": 80,
   "id": "c7e43506",
   "metadata": {},
   "outputs": [],
   "source": [
    "data = pd.read_parquet(path / \"train.parquet\")\n",
    "test = pd.read_parquet(path / \"final_test.parquet\")\n",
    "\n",
    "targets = [\"bike_count\", \"log_bike_count\"]"
   ]
  },
  {
   "cell_type": "code",
   "execution_count": 81,
   "id": "7991b73a",
   "metadata": {},
   "outputs": [],
   "source": [
    "data.drop(\n",
    "    columns=[\n",
    "        \"site_name\",\n",
    "        \"counter_id\",\n",
    "        \"site_id\",\n",
    "        \"counter_installation_date\",\n",
    "        \"coordinates\",\n",
    "        \"counter_technical_id\",\n",
    "    ],\n",
    "    inplace=True,\n",
    ")\n",
    "test.drop(\n",
    "    columns=[\n",
    "        \"site_name\",\n",
    "        \"counter_id\",\n",
    "        \"site_id\",\n",
    "        \"counter_installation_date\",\n",
    "        \"coordinates\",\n",
    "        \"counter_technical_id\",\n",
    "    ],\n",
    "    inplace=True,\n",
    ")"
   ]
  },
  {
   "cell_type": "markdown",
   "id": "657508a2",
   "metadata": {},
   "source": [
    "## Prophet"
   ]
  },
  {
   "cell_type": "code",
   "execution_count": 27,
   "id": "d7cf6700",
   "metadata": {
    "collapsed": true,
    "jupyter": {
     "outputs_hidden": true
    },
    "tags": []
   },
   "outputs": [
    {
     "name": "stdout",
     "output_type": "stream",
     "text": [
      "\n",
      "==[ Start group [0/56] ]==\n"
     ]
    },
    {
     "name": "stderr",
     "output_type": "stream",
     "text": [
      "00:01:47 - cmdstanpy - INFO - Chain [1] start processing\n",
      "00:01:48 - cmdstanpy - INFO - Chain [1] done processing\n"
     ]
    },
    {
     "name": "stdout",
     "output_type": "stream",
     "text": [
      "\n",
      "==[ Start group [1/56] ]==\n"
     ]
    },
    {
     "name": "stderr",
     "output_type": "stream",
     "text": [
      "00:01:51 - cmdstanpy - INFO - Chain [1] start processing\n",
      "00:01:52 - cmdstanpy - INFO - Chain [1] done processing\n"
     ]
    },
    {
     "name": "stdout",
     "output_type": "stream",
     "text": [
      "\n",
      "==[ Start group [2/56] ]==\n"
     ]
    },
    {
     "name": "stderr",
     "output_type": "stream",
     "text": [
      "00:01:55 - cmdstanpy - INFO - Chain [1] start processing\n",
      "00:01:56 - cmdstanpy - INFO - Chain [1] done processing\n"
     ]
    },
    {
     "name": "stdout",
     "output_type": "stream",
     "text": [
      "\n",
      "==[ Start group [3/56] ]==\n"
     ]
    },
    {
     "name": "stderr",
     "output_type": "stream",
     "text": [
      "00:01:59 - cmdstanpy - INFO - Chain [1] start processing\n",
      "00:01:59 - cmdstanpy - INFO - Chain [1] done processing\n"
     ]
    },
    {
     "name": "stdout",
     "output_type": "stream",
     "text": [
      "\n",
      "==[ Start group [4/56] ]==\n"
     ]
    },
    {
     "name": "stderr",
     "output_type": "stream",
     "text": [
      "00:02:03 - cmdstanpy - INFO - Chain [1] start processing\n",
      "00:02:04 - cmdstanpy - INFO - Chain [1] done processing\n"
     ]
    },
    {
     "name": "stdout",
     "output_type": "stream",
     "text": [
      "\n",
      "==[ Start group [5/56] ]==\n"
     ]
    },
    {
     "name": "stderr",
     "output_type": "stream",
     "text": [
      "00:02:07 - cmdstanpy - INFO - Chain [1] start processing\n",
      "00:02:08 - cmdstanpy - INFO - Chain [1] done processing\n"
     ]
    },
    {
     "name": "stdout",
     "output_type": "stream",
     "text": [
      "\n",
      "==[ Start group [6/56] ]==\n"
     ]
    },
    {
     "name": "stderr",
     "output_type": "stream",
     "text": [
      "00:02:11 - cmdstanpy - INFO - Chain [1] start processing\n",
      "00:02:12 - cmdstanpy - INFO - Chain [1] done processing\n"
     ]
    },
    {
     "name": "stdout",
     "output_type": "stream",
     "text": [
      "\n",
      "==[ Start group [7/56] ]==\n"
     ]
    },
    {
     "name": "stderr",
     "output_type": "stream",
     "text": [
      "00:02:15 - cmdstanpy - INFO - Chain [1] start processing\n",
      "00:02:16 - cmdstanpy - INFO - Chain [1] done processing\n"
     ]
    },
    {
     "name": "stdout",
     "output_type": "stream",
     "text": [
      "\n",
      "==[ Start group [8/56] ]==\n"
     ]
    },
    {
     "name": "stderr",
     "output_type": "stream",
     "text": [
      "00:02:19 - cmdstanpy - INFO - Chain [1] start processing\n",
      "00:02:20 - cmdstanpy - INFO - Chain [1] done processing\n"
     ]
    },
    {
     "name": "stdout",
     "output_type": "stream",
     "text": [
      "\n",
      "==[ Start group [9/56] ]==\n"
     ]
    },
    {
     "name": "stderr",
     "output_type": "stream",
     "text": [
      "00:02:23 - cmdstanpy - INFO - Chain [1] start processing\n",
      "00:02:24 - cmdstanpy - INFO - Chain [1] done processing\n"
     ]
    },
    {
     "name": "stdout",
     "output_type": "stream",
     "text": [
      "\n",
      "==[ Start group [10/56] ]==\n"
     ]
    },
    {
     "name": "stderr",
     "output_type": "stream",
     "text": [
      "00:02:27 - cmdstanpy - INFO - Chain [1] start processing\n",
      "00:02:28 - cmdstanpy - INFO - Chain [1] done processing\n"
     ]
    },
    {
     "name": "stdout",
     "output_type": "stream",
     "text": [
      "\n",
      "==[ Start group [11/56] ]==\n"
     ]
    },
    {
     "name": "stderr",
     "output_type": "stream",
     "text": [
      "00:02:31 - cmdstanpy - INFO - Chain [1] start processing\n",
      "00:02:32 - cmdstanpy - INFO - Chain [1] done processing\n"
     ]
    },
    {
     "name": "stdout",
     "output_type": "stream",
     "text": [
      "\n",
      "==[ Start group [12/56] ]==\n"
     ]
    },
    {
     "name": "stderr",
     "output_type": "stream",
     "text": [
      "00:02:35 - cmdstanpy - INFO - Chain [1] start processing\n",
      "00:02:35 - cmdstanpy - INFO - Chain [1] done processing\n"
     ]
    },
    {
     "name": "stdout",
     "output_type": "stream",
     "text": [
      "\n",
      "==[ Start group [13/56] ]==\n"
     ]
    },
    {
     "name": "stderr",
     "output_type": "stream",
     "text": [
      "00:02:39 - cmdstanpy - INFO - Chain [1] start processing\n",
      "00:02:39 - cmdstanpy - INFO - Chain [1] done processing\n"
     ]
    },
    {
     "name": "stdout",
     "output_type": "stream",
     "text": [
      "\n",
      "==[ Start group [14/56] ]==\n"
     ]
    },
    {
     "name": "stderr",
     "output_type": "stream",
     "text": [
      "00:02:43 - cmdstanpy - INFO - Chain [1] start processing\n",
      "00:02:43 - cmdstanpy - INFO - Chain [1] done processing\n"
     ]
    },
    {
     "name": "stdout",
     "output_type": "stream",
     "text": [
      "\n",
      "==[ Start group [15/56] ]==\n"
     ]
    },
    {
     "name": "stderr",
     "output_type": "stream",
     "text": [
      "00:02:46 - cmdstanpy - INFO - Chain [1] start processing\n",
      "00:02:47 - cmdstanpy - INFO - Chain [1] done processing\n"
     ]
    },
    {
     "name": "stdout",
     "output_type": "stream",
     "text": [
      "\n",
      "==[ Start group [16/56] ]==\n"
     ]
    },
    {
     "name": "stderr",
     "output_type": "stream",
     "text": [
      "00:02:50 - cmdstanpy - INFO - Chain [1] start processing\n",
      "00:02:51 - cmdstanpy - INFO - Chain [1] done processing\n"
     ]
    },
    {
     "name": "stdout",
     "output_type": "stream",
     "text": [
      "\n",
      "==[ Start group [17/56] ]==\n"
     ]
    },
    {
     "name": "stderr",
     "output_type": "stream",
     "text": [
      "00:02:54 - cmdstanpy - INFO - Chain [1] start processing\n",
      "00:02:54 - cmdstanpy - INFO - Chain [1] done processing\n"
     ]
    },
    {
     "name": "stdout",
     "output_type": "stream",
     "text": [
      "\n",
      "==[ Start group [18/56] ]==\n"
     ]
    },
    {
     "name": "stderr",
     "output_type": "stream",
     "text": [
      "00:02:57 - cmdstanpy - INFO - Chain [1] start processing\n",
      "00:02:58 - cmdstanpy - INFO - Chain [1] done processing\n"
     ]
    },
    {
     "name": "stdout",
     "output_type": "stream",
     "text": [
      "\n",
      "==[ Start group [19/56] ]==\n"
     ]
    },
    {
     "name": "stderr",
     "output_type": "stream",
     "text": [
      "00:03:01 - cmdstanpy - INFO - Chain [1] start processing\n",
      "00:03:03 - cmdstanpy - INFO - Chain [1] done processing\n"
     ]
    },
    {
     "name": "stdout",
     "output_type": "stream",
     "text": [
      "\n",
      "==[ Start group [20/56] ]==\n"
     ]
    },
    {
     "name": "stderr",
     "output_type": "stream",
     "text": [
      "00:03:05 - cmdstanpy - INFO - Chain [1] start processing\n",
      "00:03:07 - cmdstanpy - INFO - Chain [1] done processing\n"
     ]
    },
    {
     "name": "stdout",
     "output_type": "stream",
     "text": [
      "\n",
      "==[ Start group [21/56] ]==\n"
     ]
    },
    {
     "name": "stderr",
     "output_type": "stream",
     "text": [
      "00:03:10 - cmdstanpy - INFO - Chain [1] start processing\n",
      "00:03:11 - cmdstanpy - INFO - Chain [1] done processing\n"
     ]
    },
    {
     "name": "stdout",
     "output_type": "stream",
     "text": [
      "\n",
      "==[ Start group [22/56] ]==\n"
     ]
    },
    {
     "name": "stderr",
     "output_type": "stream",
     "text": [
      "00:03:14 - cmdstanpy - INFO - Chain [1] start processing\n",
      "00:03:15 - cmdstanpy - INFO - Chain [1] done processing\n"
     ]
    },
    {
     "name": "stdout",
     "output_type": "stream",
     "text": [
      "\n",
      "==[ Start group [23/56] ]==\n"
     ]
    },
    {
     "name": "stderr",
     "output_type": "stream",
     "text": [
      "00:03:18 - cmdstanpy - INFO - Chain [1] start processing\n",
      "00:03:19 - cmdstanpy - INFO - Chain [1] done processing\n"
     ]
    },
    {
     "name": "stdout",
     "output_type": "stream",
     "text": [
      "\n",
      "==[ Start group [24/56] ]==\n"
     ]
    },
    {
     "name": "stderr",
     "output_type": "stream",
     "text": [
      "00:03:22 - cmdstanpy - INFO - Chain [1] start processing\n",
      "00:03:23 - cmdstanpy - INFO - Chain [1] done processing\n"
     ]
    },
    {
     "name": "stdout",
     "output_type": "stream",
     "text": [
      "\n",
      "==[ Start group [25/56] ]==\n"
     ]
    },
    {
     "name": "stderr",
     "output_type": "stream",
     "text": [
      "00:03:26 - cmdstanpy - INFO - Chain [1] start processing\n",
      "00:03:27 - cmdstanpy - INFO - Chain [1] done processing\n"
     ]
    },
    {
     "name": "stdout",
     "output_type": "stream",
     "text": [
      "\n",
      "==[ Start group [26/56] ]==\n"
     ]
    },
    {
     "name": "stderr",
     "output_type": "stream",
     "text": [
      "00:03:30 - cmdstanpy - INFO - Chain [1] start processing\n",
      "00:03:30 - cmdstanpy - INFO - Chain [1] done processing\n"
     ]
    },
    {
     "name": "stdout",
     "output_type": "stream",
     "text": [
      "\n",
      "==[ Start group [27/56] ]==\n"
     ]
    },
    {
     "name": "stderr",
     "output_type": "stream",
     "text": [
      "00:03:33 - cmdstanpy - INFO - Chain [1] start processing\n",
      "00:03:34 - cmdstanpy - INFO - Chain [1] done processing\n"
     ]
    },
    {
     "name": "stdout",
     "output_type": "stream",
     "text": [
      "\n",
      "==[ Start group [28/56] ]==\n"
     ]
    },
    {
     "name": "stderr",
     "output_type": "stream",
     "text": [
      "00:03:37 - cmdstanpy - INFO - Chain [1] start processing\n",
      "00:03:38 - cmdstanpy - INFO - Chain [1] done processing\n"
     ]
    },
    {
     "name": "stdout",
     "output_type": "stream",
     "text": [
      "\n",
      "==[ Start group [29/56] ]==\n"
     ]
    },
    {
     "name": "stderr",
     "output_type": "stream",
     "text": [
      "00:03:41 - cmdstanpy - INFO - Chain [1] start processing\n",
      "00:03:42 - cmdstanpy - INFO - Chain [1] done processing\n"
     ]
    },
    {
     "name": "stdout",
     "output_type": "stream",
     "text": [
      "\n",
      "==[ Start group [30/56] ]==\n"
     ]
    },
    {
     "name": "stderr",
     "output_type": "stream",
     "text": [
      "00:03:45 - cmdstanpy - INFO - Chain [1] start processing\n",
      "00:03:46 - cmdstanpy - INFO - Chain [1] done processing\n"
     ]
    },
    {
     "name": "stdout",
     "output_type": "stream",
     "text": [
      "\n",
      "==[ Start group [31/56] ]==\n"
     ]
    },
    {
     "name": "stderr",
     "output_type": "stream",
     "text": [
      "00:03:49 - cmdstanpy - INFO - Chain [1] start processing\n",
      "00:03:50 - cmdstanpy - INFO - Chain [1] done processing\n"
     ]
    },
    {
     "name": "stdout",
     "output_type": "stream",
     "text": [
      "\n",
      "==[ Start group [32/56] ]==\n"
     ]
    },
    {
     "name": "stderr",
     "output_type": "stream",
     "text": [
      "00:03:53 - cmdstanpy - INFO - Chain [1] start processing\n",
      "00:03:54 - cmdstanpy - INFO - Chain [1] done processing\n"
     ]
    },
    {
     "name": "stdout",
     "output_type": "stream",
     "text": [
      "\n",
      "==[ Start group [33/56] ]==\n"
     ]
    },
    {
     "name": "stderr",
     "output_type": "stream",
     "text": [
      "00:03:57 - cmdstanpy - INFO - Chain [1] start processing\n",
      "00:03:58 - cmdstanpy - INFO - Chain [1] done processing\n"
     ]
    },
    {
     "name": "stdout",
     "output_type": "stream",
     "text": [
      "\n",
      "==[ Start group [34/56] ]==\n"
     ]
    },
    {
     "name": "stderr",
     "output_type": "stream",
     "text": [
      "00:04:01 - cmdstanpy - INFO - Chain [1] start processing\n",
      "00:04:02 - cmdstanpy - INFO - Chain [1] done processing\n"
     ]
    },
    {
     "name": "stdout",
     "output_type": "stream",
     "text": [
      "\n",
      "==[ Start group [35/56] ]==\n"
     ]
    },
    {
     "name": "stderr",
     "output_type": "stream",
     "text": [
      "00:04:05 - cmdstanpy - INFO - Chain [1] start processing\n",
      "00:04:05 - cmdstanpy - INFO - Chain [1] done processing\n"
     ]
    },
    {
     "name": "stdout",
     "output_type": "stream",
     "text": [
      "\n",
      "==[ Start group [36/56] ]==\n"
     ]
    },
    {
     "name": "stderr",
     "output_type": "stream",
     "text": [
      "00:04:08 - cmdstanpy - INFO - Chain [1] start processing\n",
      "00:04:09 - cmdstanpy - INFO - Chain [1] done processing\n"
     ]
    },
    {
     "name": "stdout",
     "output_type": "stream",
     "text": [
      "\n",
      "==[ Start group [37/56] ]==\n"
     ]
    },
    {
     "name": "stderr",
     "output_type": "stream",
     "text": [
      "00:04:12 - cmdstanpy - INFO - Chain [1] start processing\n",
      "00:04:13 - cmdstanpy - INFO - Chain [1] done processing\n"
     ]
    },
    {
     "name": "stdout",
     "output_type": "stream",
     "text": [
      "\n",
      "==[ Start group [38/56] ]==\n"
     ]
    },
    {
     "name": "stderr",
     "output_type": "stream",
     "text": [
      "00:04:16 - cmdstanpy - INFO - Chain [1] start processing\n",
      "00:04:17 - cmdstanpy - INFO - Chain [1] done processing\n"
     ]
    },
    {
     "name": "stdout",
     "output_type": "stream",
     "text": [
      "\n",
      "==[ Start group [39/56] ]==\n"
     ]
    },
    {
     "name": "stderr",
     "output_type": "stream",
     "text": [
      "00:04:20 - cmdstanpy - INFO - Chain [1] start processing\n",
      "00:04:20 - cmdstanpy - INFO - Chain [1] done processing\n"
     ]
    },
    {
     "name": "stdout",
     "output_type": "stream",
     "text": [
      "\n",
      "==[ Start group [40/56] ]==\n"
     ]
    },
    {
     "name": "stderr",
     "output_type": "stream",
     "text": [
      "00:04:23 - cmdstanpy - INFO - Chain [1] start processing\n",
      "00:04:24 - cmdstanpy - INFO - Chain [1] done processing\n"
     ]
    },
    {
     "name": "stdout",
     "output_type": "stream",
     "text": [
      "\n",
      "==[ Start group [41/56] ]==\n"
     ]
    },
    {
     "name": "stderr",
     "output_type": "stream",
     "text": [
      "00:04:27 - cmdstanpy - INFO - Chain [1] start processing\n",
      "00:04:28 - cmdstanpy - INFO - Chain [1] done processing\n"
     ]
    },
    {
     "name": "stdout",
     "output_type": "stream",
     "text": [
      "\n",
      "==[ Start group [42/56] ]==\n"
     ]
    },
    {
     "name": "stderr",
     "output_type": "stream",
     "text": [
      "00:04:31 - cmdstanpy - INFO - Chain [1] start processing\n",
      "00:04:32 - cmdstanpy - INFO - Chain [1] done processing\n"
     ]
    },
    {
     "name": "stdout",
     "output_type": "stream",
     "text": [
      "\n",
      "==[ Start group [43/56] ]==\n"
     ]
    },
    {
     "name": "stderr",
     "output_type": "stream",
     "text": [
      "00:04:35 - cmdstanpy - INFO - Chain [1] start processing\n",
      "00:04:36 - cmdstanpy - INFO - Chain [1] done processing\n"
     ]
    },
    {
     "name": "stdout",
     "output_type": "stream",
     "text": [
      "\n",
      "==[ Start group [44/56] ]==\n"
     ]
    },
    {
     "name": "stderr",
     "output_type": "stream",
     "text": [
      "00:04:39 - cmdstanpy - INFO - Chain [1] start processing\n",
      "00:04:40 - cmdstanpy - INFO - Chain [1] done processing\n"
     ]
    },
    {
     "name": "stdout",
     "output_type": "stream",
     "text": [
      "\n",
      "==[ Start group [45/56] ]==\n"
     ]
    },
    {
     "name": "stderr",
     "output_type": "stream",
     "text": [
      "00:04:43 - cmdstanpy - INFO - Chain [1] start processing\n",
      "00:04:44 - cmdstanpy - INFO - Chain [1] done processing\n"
     ]
    },
    {
     "name": "stdout",
     "output_type": "stream",
     "text": [
      "\n",
      "==[ Start group [46/56] ]==\n"
     ]
    },
    {
     "name": "stderr",
     "output_type": "stream",
     "text": [
      "00:04:46 - cmdstanpy - INFO - Chain [1] start processing\n",
      "00:04:47 - cmdstanpy - INFO - Chain [1] done processing\n"
     ]
    },
    {
     "name": "stdout",
     "output_type": "stream",
     "text": [
      "\n",
      "==[ Start group [47/56] ]==\n"
     ]
    },
    {
     "name": "stderr",
     "output_type": "stream",
     "text": [
      "00:04:50 - cmdstanpy - INFO - Chain [1] start processing\n",
      "00:04:51 - cmdstanpy - INFO - Chain [1] done processing\n"
     ]
    },
    {
     "name": "stdout",
     "output_type": "stream",
     "text": [
      "\n",
      "==[ Start group [48/56] ]==\n"
     ]
    },
    {
     "name": "stderr",
     "output_type": "stream",
     "text": [
      "00:04:54 - cmdstanpy - INFO - Chain [1] start processing\n",
      "00:04:55 - cmdstanpy - INFO - Chain [1] done processing\n"
     ]
    },
    {
     "name": "stdout",
     "output_type": "stream",
     "text": [
      "\n",
      "==[ Start group [49/56] ]==\n"
     ]
    },
    {
     "name": "stderr",
     "output_type": "stream",
     "text": [
      "00:04:58 - cmdstanpy - INFO - Chain [1] start processing\n",
      "00:04:59 - cmdstanpy - INFO - Chain [1] done processing\n"
     ]
    },
    {
     "name": "stdout",
     "output_type": "stream",
     "text": [
      "\n",
      "==[ Start group [50/56] ]==\n"
     ]
    },
    {
     "name": "stderr",
     "output_type": "stream",
     "text": [
      "00:05:01 - cmdstanpy - INFO - Chain [1] start processing\n",
      "00:05:02 - cmdstanpy - INFO - Chain [1] done processing\n"
     ]
    },
    {
     "name": "stdout",
     "output_type": "stream",
     "text": [
      "\n",
      "==[ Start group [51/56] ]==\n"
     ]
    },
    {
     "name": "stderr",
     "output_type": "stream",
     "text": [
      "00:05:05 - cmdstanpy - INFO - Chain [1] start processing\n",
      "00:05:06 - cmdstanpy - INFO - Chain [1] done processing\n"
     ]
    },
    {
     "name": "stdout",
     "output_type": "stream",
     "text": [
      "\n",
      "==[ Start group [52/56] ]==\n"
     ]
    },
    {
     "name": "stderr",
     "output_type": "stream",
     "text": [
      "00:05:09 - cmdstanpy - INFO - Chain [1] start processing\n",
      "00:05:10 - cmdstanpy - INFO - Chain [1] done processing\n"
     ]
    },
    {
     "name": "stdout",
     "output_type": "stream",
     "text": [
      "\n",
      "==[ Start group [53/56] ]==\n"
     ]
    },
    {
     "name": "stderr",
     "output_type": "stream",
     "text": [
      "00:05:13 - cmdstanpy - INFO - Chain [1] start processing\n",
      "00:05:15 - cmdstanpy - INFO - Chain [1] done processing\n"
     ]
    },
    {
     "name": "stdout",
     "output_type": "stream",
     "text": [
      "\n",
      "==[ Start group [54/56] ]==\n"
     ]
    },
    {
     "name": "stderr",
     "output_type": "stream",
     "text": [
      "00:05:18 - cmdstanpy - INFO - Chain [1] start processing\n",
      "00:05:18 - cmdstanpy - INFO - Chain [1] done processing\n"
     ]
    },
    {
     "name": "stdout",
     "output_type": "stream",
     "text": [
      "\n",
      "==[ Start group [55/56] ]==\n"
     ]
    },
    {
     "name": "stderr",
     "output_type": "stream",
     "text": [
      "00:05:20 - cmdstanpy - INFO - Chain [1] start processing\n",
      "00:05:21 - cmdstanpy - INFO - Chain [1] done processing\n"
     ]
    }
   ],
   "source": [
    "y_hat = pd.DataFrame(columns=[\"ds\", \"yhat\", \"group\"])\n",
    "y_true = pd.DataFrame(columns=[\"ds\", \"y\", \"group\"])\n",
    "\n",
    "forecast = pd.DataFrame()\n",
    "\n",
    "for i, grp in enumerate(data[\"counter_name\"].unique()):\n",
    "\n",
    "    print(f\"\\n==[ Start group [{i+1}/{data['counter_name'].nunique()}] ]==\")\n",
    "\n",
    "    data_prophet = data.rename(\n",
    "        columns={\"date\": \"ds\", \"log_bike_count\": \"y\", \"counter_name\": \"group\"}\n",
    "    ).sort_values([\"group\", \"ds\"])\n",
    "\n",
    "    pred, test, components = prophet_fit_pred(data_prophet, grp)\n",
    "    components[\"group\"] = grp\n",
    "    pred[\"group\"] = grp\n",
    "    test[\"group\"] = grp\n",
    "\n",
    "    forecast = pd.concat([forecast, components])\n",
    "\n",
    "    # Saving in the full datasets\n",
    "    y_hat = pd.concat([y_hat, pred])\n",
    "    y_true = pd.concat([y_true, test])"
   ]
  },
  {
   "cell_type": "code",
   "execution_count": 48,
   "id": "e0c1eb4c-5526-4625-8970-fafe3e525390",
   "metadata": {},
   "outputs": [
    {
     "name": "stdout",
     "output_type": "stream",
     "text": [
      "Test set, RMSE=1.12\n"
     ]
    }
   ],
   "source": [
    "print(\n",
    "    f\"Test set, RMSE={mean_squared_error(y_true.iloc[:,1], y_hat.iloc[:,1], squared=False):.2f}\"\n",
    ")"
   ]
  },
  {
   "cell_type": "code",
   "execution_count": 86,
   "id": "1a032cd9",
   "metadata": {},
   "outputs": [],
   "source": [
    "prophet_fit = forecast.copy()\n",
    "prophet_fit.rename(columns=lambda c: re.sub(r\"'\", \"\", c), inplace=True)\n",
    "prophet_fit.rename(columns=lambda c: re.sub(r\"\\s+\", \"\", c), inplace=True)\n",
    "\n",
    "selected_cols = [\n",
    "    \"ds\",\n",
    "    \"ChristmasDay\",\n",
    "    \"NewYearsDay\",\n",
    "    \"daily\",\n",
    "    \"weekly\",\n",
    "    # \"yhat\",\n",
    "    \"group\",\n",
    "]\n",
    "\n",
    "prophet_fit = prophet_fit[selected_cols]\n",
    "prophet_fit = prophet_fit.rename(\n",
    "    columns={\"ds\": \"date\", \"group\": \"counter_name\"}\n",
    ").sort_values(\n",
    "    by=[\"counter_name\", \"date\"]\n",
    ")  # This can be merged to main dataset for extra features for the ml model"
   ]
  },
  {
   "cell_type": "code",
   "execution_count": 53,
   "id": "4e858778-f374-4990-add3-7008bf976532",
   "metadata": {
    "collapsed": true,
    "jupyter": {
     "outputs_hidden": true
    },
    "tags": []
   },
   "outputs": [
    {
     "name": "stderr",
     "output_type": "stream",
     "text": [
      "00:16:00 - cmdstanpy - INFO - Chain [1] start processing\n",
      "00:16:00 - cmdstanpy - INFO - Chain [1] done processing\n"
     ]
    },
    {
     "data": {
      "text/plain": [
       "(                      ds      yhat\n",
       " 5137 2021-07-12 00:00:00  0.896659\n",
       " 5138 2021-07-12 01:00:00  0.678016\n",
       " 5139 2021-07-12 02:00:00  0.770190\n",
       " 5140 2021-07-12 03:00:00  1.342621\n",
       " 5141 2021-07-12 04:00:00  2.386609\n",
       " ...                  ...       ...\n",
       " 6572 2021-09-09 19:00:00  4.948915\n",
       " 6573 2021-09-09 20:00:00  4.054731\n",
       " 6574 2021-09-09 21:00:00  3.110136\n",
       " 6575 2021-09-09 22:00:00  2.322521\n",
       " 6576 2021-09-09 23:00:00  1.742370\n",
       " \n",
       " [1440 rows x 2 columns],\n",
       "                         ds         y\n",
       " 927636 2021-07-12 00:00:00  0.693147\n",
       " 925187 2021-07-12 01:00:00  1.098612\n",
       " 925190 2021-07-12 02:00:00  1.098612\n",
       " 927889 2021-07-12 03:00:00  1.609438\n",
       " 927892 2021-07-12 04:00:00  2.944439\n",
       " ...                    ...       ...\n",
       " 929155 2021-09-09 19:00:00  4.477337\n",
       " 926678 2021-09-09 20:00:00  4.025352\n",
       " 926681 2021-09-09 21:00:00  3.891820\n",
       " 929184 2021-09-09 22:00:00  3.091042\n",
       " 929187 2021-09-09 23:00:00  2.772589\n",
       " \n",
       " [1440 rows x 2 columns],\n",
       "                       ds     trend  yhat_lower  yhat_upper  trend_lower  \\\n",
       " 0    2020-12-09 23:00:00  3.214245    0.287894    2.450781     3.214245   \n",
       " 1    2020-12-10 00:00:00  3.213686   -0.136129    2.144468     3.213686   \n",
       " 2    2020-12-10 01:00:00  3.213127   -0.301234    1.908322     3.213127   \n",
       " 3    2020-12-10 02:00:00  3.212568   -0.187140    1.990874     3.212568   \n",
       " 4    2020-12-10 03:00:00  3.212009    0.253176    2.492688     3.212009   \n",
       " ...                  ...       ...         ...         ...          ...   \n",
       " 6572 2021-09-09 19:00:00  4.056254    3.715031    6.168764     3.669631   \n",
       " 6573 2021-09-09 20:00:00  4.056401    2.904575    5.279473     3.669494   \n",
       " 6574 2021-09-09 21:00:00  4.056548    1.991031    4.219487     3.669357   \n",
       " 6575 2021-09-09 22:00:00  4.056695    1.195751    3.420796     3.669220   \n",
       " 6576 2021-09-09 23:00:00  4.056842    0.576312    2.830140     3.669083   \n",
       " \n",
       "       trend_upper  All Saints' Day  All Saints' Day_lower  \\\n",
       " 0        3.214245              0.0                    0.0   \n",
       " 1        3.213686              0.0                    0.0   \n",
       " 2        3.213127              0.0                    0.0   \n",
       " 3        3.212568              0.0                    0.0   \n",
       " 4        3.212009              0.0                    0.0   \n",
       " ...           ...              ...                    ...   \n",
       " 6572     4.474400              0.0                    0.0   \n",
       " 6573     4.474822              0.0                    0.0   \n",
       " 6574     4.475243              0.0                    0.0   \n",
       " 6575     4.475665              0.0                    0.0   \n",
       " 6576     4.476087              0.0                    0.0   \n",
       " \n",
       "       All Saints' Day_upper  Armistice Day  ...  multiplicative_terms  \\\n",
       " 0                       0.0            0.0  ...             -0.574255   \n",
       " 1                       0.0            0.0  ...             -0.678413   \n",
       " 2                       0.0            0.0  ...             -0.739884   \n",
       " 3                       0.0            0.0  ...             -0.720574   \n",
       " 4                       0.0            0.0  ...             -0.576394   \n",
       " ...                     ...            ...  ...                   ...   \n",
       " 6572                    0.0            0.0  ...              0.220070   \n",
       " 6573                    0.0            0.0  ...             -0.000412   \n",
       " 6574                    0.0            0.0  ...             -0.233305   \n",
       " 6575                    0.0            0.0  ...             -0.427484   \n",
       " 6576                    0.0            0.0  ...             -0.570511   \n",
       " \n",
       "       multiplicative_terms_lower  multiplicative_terms_upper    weekly  \\\n",
       " 0                      -0.574255                   -0.574255  0.037713   \n",
       " 1                      -0.678413                   -0.678413  0.037911   \n",
       " 2                      -0.739884                   -0.739884  0.038058   \n",
       " 3                      -0.720574                   -0.720574  0.038157   \n",
       " 4                      -0.576394                   -0.576394  0.038216   \n",
       " ...                          ...                         ...       ...   \n",
       " 6572                    0.220070                    0.220070  0.039706   \n",
       " 6573                   -0.000412                   -0.000412  0.040097   \n",
       " 6574                   -0.233305                   -0.233305  0.040523   \n",
       " 6575                   -0.427484                   -0.427484  0.040979   \n",
       " 6576                   -0.570511                   -0.570511  0.041456   \n",
       " \n",
       "       weekly_lower  weekly_upper  additive_terms  additive_terms_lower  \\\n",
       " 0         0.037713      0.037713             0.0                   0.0   \n",
       " 1         0.037911      0.037911             0.0                   0.0   \n",
       " 2         0.038058      0.038058             0.0                   0.0   \n",
       " 3         0.038157      0.038157             0.0                   0.0   \n",
       " 4         0.038216      0.038216             0.0                   0.0   \n",
       " ...            ...           ...             ...                   ...   \n",
       " 6572      0.039706      0.039706             0.0                   0.0   \n",
       " 6573      0.040097      0.040097             0.0                   0.0   \n",
       " 6574      0.040523      0.040523             0.0                   0.0   \n",
       " 6575      0.040979      0.040979             0.0                   0.0   \n",
       " 6576      0.041456      0.041456             0.0                   0.0   \n",
       " \n",
       "       additive_terms_upper      yhat  \n",
       " 0                      0.0  1.368450  \n",
       " 1                      0.0  1.033479  \n",
       " 2                      0.0  0.835785  \n",
       " 3                      0.0  0.897676  \n",
       " 4                      0.0  1.360627  \n",
       " ...                    ...       ...  \n",
       " 6572                   0.0  4.948915  \n",
       " 6573                   0.0  4.054731  \n",
       " 6574                   0.0  3.110136  \n",
       " 6575                   0.0  2.322521  \n",
       " 6576                   0.0  1.742370  \n",
       " \n",
       " [6577 rows x 55 columns])"
      ]
     },
     "execution_count": 53,
     "metadata": {},
     "output_type": "execute_result"
    },
    {
     "data": {
      "image/png": "[encoded data removed]",
      "text/plain": [
       "<Figure size 900x1200 with 4 Axes>"
      ]
     },
     "metadata": {},
     "output_type": "display_data"
    }
   ],
   "source": [
    "prophet_fit_pred(data_prophet, grp, plot_components=True)"
   ]
  },
  {
   "cell_type": "markdown",
   "id": "d70c2b95",
   "metadata": {},
   "source": [
    "## CatBoost"
   ]
  },
  {
   "cell_type": "code",
   "execution_count": 87,
   "id": "9c372553",
   "metadata": {
    "scrolled": true
   },
   "outputs": [],
   "source": [
    "X, y = data.drop(columns=targets), data[\"log_bike_count\"]\n",
    "\n",
    "date_cols = (\n",
    "    _encode_dates(X[[\"date\"]]).select_dtypes(include=\"category\").columns.tolist()\n",
    ")\n",
    "categorical_cols = [\"counter_name\"] + date_cols"
   ]
  },
  {
   "cell_type": "code",
   "execution_count": 88,
   "id": "7e30b5b5",
   "metadata": {},
   "outputs": [
    {
     "name": "stdout",
     "output_type": "stream",
     "text": [
      "Train: n_samples=416187,  2020-09-01 01:00:00 to 2021-07-11 23:00:00\n",
      "Test: n_samples=80640,  2021-07-12 00:00:00 to 2021-09-09 23:00:00\n"
     ]
    }
   ],
   "source": [
    "X_train, y_train, X_test, y_test = train_test_split_temporal(X, y)\n",
    "\n",
    "print(\n",
    "    f'Train: n_samples={X_train.shape[0]},  {X_train[\"date\"].min()} to {X_train[\"date\"].max()}'\n",
    ")\n",
    "print(\n",
    "    f'Test: n_samples={X_test.shape[0]},  {X_test[\"date\"].min()} to {X_test[\"date\"].max()}'\n",
    ")"
   ]
  },
  {
   "cell_type": "code",
   "execution_count": 89,
   "id": "92eaded9",
   "metadata": {
    "scrolled": true
   },
   "outputs": [
    {
     "name": "stdout",
     "output_type": "stream",
     "text": [
      "0:\tlearn: 1.4982380\ttest: 1.2873456\tbest: 1.2873456 (0)\ttotal: 442ms\tremaining: 4m 38s\n",
      "1:\tlearn: 1.3354651\ttest: 1.1362728\tbest: 1.1362728 (1)\ttotal: 831ms\tremaining: 4m 21s\n",
      "2:\tlearn: 1.2017931\ttest: 1.0105850\tbest: 1.0105850 (2)\ttotal: 1.17s\tremaining: 4m 4s\n",
      "3:\tlearn: 1.0943791\ttest: 0.9175879\tbest: 0.9175879 (3)\ttotal: 1.5s\tremaining: 3m 55s\n",
      "4:\tlearn: 1.0063404\ttest: 0.8449391\tbest: 0.8449391 (4)\ttotal: 1.81s\tremaining: 3m 46s\n",
      "5:\tlearn: 0.9394797\ttest: 0.7911370\tbest: 0.7911370 (5)\ttotal: 2.03s\tremaining: 3m 31s\n",
      "6:\tlearn: 0.8813140\ttest: 0.7441812\tbest: 0.7441812 (6)\ttotal: 2.25s\tremaining: 3m 19s\n",
      "7:\tlearn: 0.8331077\ttest: 0.7261601\tbest: 0.7261601 (7)\ttotal: 2.47s\tremaining: 3m 12s\n",
      "8:\tlearn: 0.7984033\ttest: 0.7072864\tbest: 0.7072864 (8)\ttotal: 2.72s\tremaining: 3m 7s\n",
      "9:\tlearn: 0.7663458\ttest: 0.6926627\tbest: 0.6926627 (9)\ttotal: 2.98s\tremaining: 3m 4s\n",
      "10:\tlearn: 0.7268393\ttest: 0.6780925\tbest: 0.6780925 (10)\ttotal: 3.23s\tremaining: 3m 1s\n",
      "11:\tlearn: 0.6963566\ttest: 0.6781750\tbest: 0.6780925 (10)\ttotal: 3.4s\tremaining: 2m 54s\n",
      "12:\tlearn: 0.6711324\ttest: 0.6735615\tbest: 0.6735615 (12)\ttotal: 3.59s\tremaining: 2m 50s\n",
      "13:\tlearn: 0.6524934\ttest: 0.6714976\tbest: 0.6714976 (13)\ttotal: 3.89s\tremaining: 2m 51s\n",
      "14:\tlearn: 0.6380842\ttest: 0.6725881\tbest: 0.6714976 (13)\ttotal: 4.19s\tremaining: 2m 51s\n",
      "15:\tlearn: 0.6257608\ttest: 0.6697611\tbest: 0.6697611 (15)\ttotal: 4.59s\tremaining: 2m 56s\n",
      "16:\tlearn: 0.6139806\ttest: 0.6786883\tbest: 0.6697611 (15)\ttotal: 4.88s\tremaining: 2m 56s\n",
      "17:\tlearn: 0.6033573\ttest: 0.6741056\tbest: 0.6697611 (15)\ttotal: 5.25s\tremaining: 2m 58s\n",
      "18:\tlearn: 0.5954681\ttest: 0.6743890\tbest: 0.6697611 (15)\ttotal: 5.6s\tremaining: 2m 59s\n",
      "19:\tlearn: 0.5859302\ttest: 0.6758649\tbest: 0.6697611 (15)\ttotal: 5.87s\tremaining: 2m 58s\n",
      "20:\tlearn: 0.5789458\ttest: 0.6788540\tbest: 0.6697611 (15)\ttotal: 6.17s\tremaining: 2m 59s\n",
      "21:\tlearn: 0.5725729\ttest: 0.6792306\tbest: 0.6697611 (15)\ttotal: 6.47s\tremaining: 2m 58s\n",
      "22:\tlearn: 0.5678902\ttest: 0.6785132\tbest: 0.6697611 (15)\ttotal: 6.81s\tremaining: 2m 59s\n",
      "23:\tlearn: 0.5627739\ttest: 0.6813976\tbest: 0.6697611 (15)\ttotal: 7.22s\tremaining: 3m 2s\n",
      "24:\tlearn: 0.5583284\ttest: 0.6811061\tbest: 0.6697611 (15)\ttotal: 7.53s\tremaining: 3m 2s\n",
      "25:\tlearn: 0.5527479\ttest: 0.6835470\tbest: 0.6697611 (15)\ttotal: 7.86s\tremaining: 3m 2s\n",
      "26:\tlearn: 0.5482989\ttest: 0.6842468\tbest: 0.6697611 (15)\ttotal: 8.17s\tremaining: 3m 2s\n",
      "27:\tlearn: 0.5453066\ttest: 0.6879473\tbest: 0.6697611 (15)\ttotal: 8.41s\tremaining: 3m\n",
      "28:\tlearn: 0.5421072\ttest: 0.6844101\tbest: 0.6697611 (15)\ttotal: 8.71s\tremaining: 3m\n",
      "29:\tlearn: 0.5390256\ttest: 0.6846264\tbest: 0.6697611 (15)\ttotal: 9.02s\tremaining: 3m\n",
      "30:\tlearn: 0.5357430\ttest: 0.6847009\tbest: 0.6697611 (15)\ttotal: 9.36s\tremaining: 3m\n",
      "31:\tlearn: 0.5329144\ttest: 0.6856035\tbest: 0.6697611 (15)\ttotal: 9.72s\tremaining: 3m 1s\n",
      "32:\tlearn: 0.5301715\ttest: 0.6843529\tbest: 0.6697611 (15)\ttotal: 9.98s\tremaining: 3m\n",
      "33:\tlearn: 0.5265097\ttest: 0.6836167\tbest: 0.6697611 (15)\ttotal: 10.2s\tremaining: 2m 59s\n",
      "34:\tlearn: 0.5245089\ttest: 0.6811620\tbest: 0.6697611 (15)\ttotal: 10.5s\tremaining: 2m 59s\n",
      "35:\tlearn: 0.5216288\ttest: 0.6787490\tbest: 0.6697611 (15)\ttotal: 10.8s\tremaining: 2m 58s\n",
      "36:\tlearn: 0.5194231\ttest: 0.6803316\tbest: 0.6697611 (15)\ttotal: 11.1s\tremaining: 2m 58s\n",
      "37:\tlearn: 0.5155473\ttest: 0.6781263\tbest: 0.6697611 (15)\ttotal: 11.5s\tremaining: 2m 58s\n",
      "38:\tlearn: 0.5130318\ttest: 0.6794891\tbest: 0.6697611 (15)\ttotal: 11.7s\tremaining: 2m 57s\n",
      "39:\tlearn: 0.5112900\ttest: 0.6777404\tbest: 0.6697611 (15)\ttotal: 12.1s\tremaining: 2m 59s\n",
      "40:\tlearn: 0.5094465\ttest: 0.6775795\tbest: 0.6697611 (15)\ttotal: 12.5s\tremaining: 2m 59s\n",
      "41:\tlearn: 0.5076045\ttest: 0.6782153\tbest: 0.6697611 (15)\ttotal: 12.7s\tremaining: 2m 58s\n",
      "42:\tlearn: 0.5043120\ttest: 0.6762848\tbest: 0.6697611 (15)\ttotal: 12.9s\tremaining: 2m 56s\n",
      "43:\tlearn: 0.5030623\ttest: 0.6754589\tbest: 0.6697611 (15)\ttotal: 13.2s\tremaining: 2m 56s\n",
      "44:\tlearn: 0.4999164\ttest: 0.6757822\tbest: 0.6697611 (15)\ttotal: 13.6s\tremaining: 2m 56s\n",
      "45:\tlearn: 0.4983208\ttest: 0.6748606\tbest: 0.6697611 (15)\ttotal: 14s\tremaining: 2m 57s\n",
      "46:\tlearn: 0.4958771\ttest: 0.6746554\tbest: 0.6697611 (15)\ttotal: 14.3s\tremaining: 2m 57s\n",
      "47:\tlearn: 0.4943161\ttest: 0.6747749\tbest: 0.6697611 (15)\ttotal: 14.6s\tremaining: 2m 56s\n",
      "48:\tlearn: 0.4934478\ttest: 0.6734408\tbest: 0.6697611 (15)\ttotal: 14.9s\tremaining: 2m 56s\n",
      "49:\tlearn: 0.4920878\ttest: 0.6739548\tbest: 0.6697611 (15)\ttotal: 15.1s\tremaining: 2m 55s\n",
      "50:\tlearn: 0.4908692\ttest: 0.6731213\tbest: 0.6697611 (15)\ttotal: 15.4s\tremaining: 2m 55s\n",
      "51:\tlearn: 0.4897592\ttest: 0.6732285\tbest: 0.6697611 (15)\ttotal: 15.9s\tremaining: 2m 56s\n",
      "52:\tlearn: 0.4877837\ttest: 0.6722178\tbest: 0.6697611 (15)\ttotal: 16.3s\tremaining: 2m 57s\n",
      "53:\tlearn: 0.4863633\ttest: 0.6709384\tbest: 0.6697611 (15)\ttotal: 16.5s\tremaining: 2m 56s\n",
      "54:\tlearn: 0.4844645\ttest: 0.6703126\tbest: 0.6697611 (15)\ttotal: 16.8s\tremaining: 2m 55s\n",
      "55:\tlearn: 0.4828709\ttest: 0.6693911\tbest: 0.6693911 (55)\ttotal: 17.1s\tremaining: 2m 55s\n",
      "56:\tlearn: 0.4815752\ttest: 0.6692711\tbest: 0.6692711 (56)\ttotal: 17.4s\tremaining: 2m 54s\n",
      "57:\tlearn: 0.4803770\ttest: 0.6691325\tbest: 0.6691325 (57)\ttotal: 17.6s\tremaining: 2m 53s\n",
      "58:\tlearn: 0.4795597\ttest: 0.6689074\tbest: 0.6689074 (58)\ttotal: 17.9s\tremaining: 2m 52s\n",
      "59:\tlearn: 0.4779516\ttest: 0.6676117\tbest: 0.6676117 (59)\ttotal: 18.1s\tremaining: 2m 51s\n",
      "60:\tlearn: 0.4765537\ttest: 0.6653103\tbest: 0.6653103 (60)\ttotal: 18.3s\tremaining: 2m 50s\n",
      "61:\tlearn: 0.4743464\ttest: 0.6661452\tbest: 0.6653103 (60)\ttotal: 18.6s\tremaining: 2m 50s\n",
      "62:\tlearn: 0.4733968\ttest: 0.6662879\tbest: 0.6653103 (60)\ttotal: 18.9s\tremaining: 2m 49s\n",
      "63:\tlearn: 0.4720270\ttest: 0.6652968\tbest: 0.6652968 (63)\ttotal: 19.2s\tremaining: 2m 49s\n",
      "64:\tlearn: 0.4712353\ttest: 0.6651147\tbest: 0.6651147 (64)\ttotal: 19.5s\tremaining: 2m 49s\n",
      "65:\tlearn: 0.4703941\ttest: 0.6646284\tbest: 0.6646284 (65)\ttotal: 19.8s\tremaining: 2m 49s\n",
      "66:\tlearn: 0.4694814\ttest: 0.6639057\tbest: 0.6639057 (66)\ttotal: 20s\tremaining: 2m 48s\n",
      "67:\tlearn: 0.4680042\ttest: 0.6612417\tbest: 0.6612417 (67)\ttotal: 20.4s\tremaining: 2m 48s\n",
      "68:\tlearn: 0.4661432\ttest: 0.6592797\tbest: 0.6592797 (68)\ttotal: 20.7s\tremaining: 2m 48s\n",
      "69:\tlearn: 0.4649418\ttest: 0.6582709\tbest: 0.6582709 (69)\ttotal: 21.1s\tremaining: 2m 48s\n",
      "70:\tlearn: 0.4638781\ttest: 0.6577226\tbest: 0.6577226 (70)\ttotal: 21.4s\tremaining: 2m 48s\n",
      "71:\tlearn: 0.4625121\ttest: 0.6589144\tbest: 0.6577226 (70)\ttotal: 21.7s\tremaining: 2m 48s\n",
      "72:\tlearn: 0.4613862\ttest: 0.6587619\tbest: 0.6577226 (70)\ttotal: 22.1s\tremaining: 2m 48s\n",
      "73:\tlearn: 0.4602507\ttest: 0.6590460\tbest: 0.6577226 (70)\ttotal: 22.4s\tremaining: 2m 48s\n",
      "74:\tlearn: 0.4589111\ttest: 0.6584182\tbest: 0.6577226 (70)\ttotal: 22.7s\tremaining: 2m 48s\n",
      "75:\tlearn: 0.4581945\ttest: 0.6583949\tbest: 0.6577226 (70)\ttotal: 23s\tremaining: 2m 47s\n",
      "76:\tlearn: 0.4573933\ttest: 0.6585316\tbest: 0.6577226 (70)\ttotal: 23.2s\tremaining: 2m 46s\n",
      "77:\tlearn: 0.4566549\ttest: 0.6585680\tbest: 0.6577226 (70)\ttotal: 23.6s\tremaining: 2m 47s\n",
      "78:\tlearn: 0.4560292\ttest: 0.6578274\tbest: 0.6577226 (70)\ttotal: 24s\tremaining: 2m 47s\n",
      "79:\tlearn: 0.4552557\ttest: 0.6600208\tbest: 0.6577226 (70)\ttotal: 24.3s\tremaining: 2m 46s\n",
      "80:\tlearn: 0.4548685\ttest: 0.6599196\tbest: 0.6577226 (70)\ttotal: 24.7s\tremaining: 2m 47s\n",
      "81:\tlearn: 0.4543234\ttest: 0.6603614\tbest: 0.6577226 (70)\ttotal: 25s\tremaining: 2m 47s\n",
      "82:\tlearn: 0.4535383\ttest: 0.6581566\tbest: 0.6577226 (70)\ttotal: 25.3s\tremaining: 2m 46s\n",
      "83:\tlearn: 0.4522526\ttest: 0.6577674\tbest: 0.6577226 (70)\ttotal: 25.7s\tremaining: 2m 46s\n",
      "84:\tlearn: 0.4509908\ttest: 0.6575948\tbest: 0.6575948 (84)\ttotal: 26s\tremaining: 2m 46s\n",
      "85:\tlearn: 0.4502199\ttest: 0.6572238\tbest: 0.6572238 (85)\ttotal: 26.3s\tremaining: 2m 46s\n",
      "86:\tlearn: 0.4491859\ttest: 0.6568614\tbest: 0.6568614 (86)\ttotal: 26.6s\tremaining: 2m 46s\n",
      "87:\tlearn: 0.4484684\ttest: 0.6587593\tbest: 0.6568614 (86)\ttotal: 26.9s\tremaining: 2m 45s\n",
      "88:\tlearn: 0.4479260\ttest: 0.6583766\tbest: 0.6568614 (86)\ttotal: 27.1s\tremaining: 2m 45s\n",
      "89:\tlearn: 0.4469015\ttest: 0.6582719\tbest: 0.6568614 (86)\ttotal: 27.4s\tremaining: 2m 44s\n",
      "90:\tlearn: 0.4464718\ttest: 0.6582611\tbest: 0.6568614 (86)\ttotal: 27.7s\tremaining: 2m 44s\n",
      "91:\tlearn: 0.4461271\ttest: 0.6583392\tbest: 0.6568614 (86)\ttotal: 28.1s\tremaining: 2m 44s\n",
      "92:\tlearn: 0.4455950\ttest: 0.6579766\tbest: 0.6568614 (86)\ttotal: 28.4s\tremaining: 2m 43s\n",
      "93:\tlearn: 0.4446713\ttest: 0.6575022\tbest: 0.6568614 (86)\ttotal: 28.8s\tremaining: 2m 43s\n",
      "94:\tlearn: 0.4437871\ttest: 0.6569580\tbest: 0.6568614 (86)\ttotal: 29s\tremaining: 2m 43s\n",
      "95:\tlearn: 0.4429989\ttest: 0.6561232\tbest: 0.6561232 (95)\ttotal: 29.4s\tremaining: 2m 43s\n",
      "96:\tlearn: 0.4422433\ttest: 0.6564846\tbest: 0.6561232 (95)\ttotal: 29.7s\tremaining: 2m 43s\n",
      "97:\tlearn: 0.4415715\ttest: 0.6563710\tbest: 0.6561232 (95)\ttotal: 30s\tremaining: 2m 42s\n",
      "98:\tlearn: 0.4411773\ttest: 0.6606310\tbest: 0.6561232 (95)\ttotal: 30.4s\tremaining: 2m 42s\n",
      "99:\tlearn: 0.4407561\ttest: 0.6600930\tbest: 0.6561232 (95)\ttotal: 30.7s\tremaining: 2m 42s\n",
      "100:\tlearn: 0.4400810\ttest: 0.6597792\tbest: 0.6561232 (95)\ttotal: 31s\tremaining: 2m 42s\n",
      "101:\tlearn: 0.4396450\ttest: 0.6594770\tbest: 0.6561232 (95)\ttotal: 31.2s\tremaining: 2m 41s\n",
      "102:\tlearn: 0.4391662\ttest: 0.6594754\tbest: 0.6561232 (95)\ttotal: 31.5s\tremaining: 2m 41s\n",
      "103:\tlearn: 0.4382109\ttest: 0.6590431\tbest: 0.6561232 (95)\ttotal: 31.8s\tremaining: 2m 41s\n",
      "104:\tlearn: 0.4376276\ttest: 0.6590656\tbest: 0.6561232 (95)\ttotal: 32.2s\tremaining: 2m 40s\n",
      "105:\tlearn: 0.4370447\ttest: 0.6590101\tbest: 0.6561232 (95)\ttotal: 32.5s\tremaining: 2m 40s\n",
      "106:\tlearn: 0.4366471\ttest: 0.6584381\tbest: 0.6561232 (95)\ttotal: 32.9s\tremaining: 2m 40s\n",
      "107:\tlearn: 0.4361154\ttest: 0.6585106\tbest: 0.6561232 (95)\ttotal: 33.2s\tremaining: 2m 40s\n",
      "108:\tlearn: 0.4351525\ttest: 0.6583225\tbest: 0.6561232 (95)\ttotal: 33.5s\tremaining: 2m 40s\n",
      "109:\tlearn: 0.4344237\ttest: 0.6580495\tbest: 0.6561232 (95)\ttotal: 33.9s\tremaining: 2m 40s\n",
      "110:\tlearn: 0.4339825\ttest: 0.6579206\tbest: 0.6561232 (95)\ttotal: 34.1s\tremaining: 2m 39s\n",
      "111:\tlearn: 0.4332791\ttest: 0.6576125\tbest: 0.6561232 (95)\ttotal: 34.4s\tremaining: 2m 39s\n",
      "112:\tlearn: 0.4327635\ttest: 0.6566566\tbest: 0.6561232 (95)\ttotal: 34.8s\tremaining: 2m 39s\n",
      "113:\tlearn: 0.4322832\ttest: 0.6574489\tbest: 0.6561232 (95)\ttotal: 35.2s\tremaining: 2m 39s\n",
      "114:\tlearn: 0.4317852\ttest: 0.6570487\tbest: 0.6561232 (95)\ttotal: 35.4s\tremaining: 2m 38s\n",
      "115:\tlearn: 0.4310852\ttest: 0.6563067\tbest: 0.6561232 (95)\ttotal: 35.8s\tremaining: 2m 38s\n",
      "116:\tlearn: 0.4305893\ttest: 0.6559683\tbest: 0.6559683 (116)\ttotal: 36.1s\tremaining: 2m 38s\n",
      "117:\tlearn: 0.4298332\ttest: 0.6560910\tbest: 0.6559683 (116)\ttotal: 36.3s\tremaining: 2m 37s\n",
      "118:\tlearn: 0.4293912\ttest: 0.6563524\tbest: 0.6559683 (116)\ttotal: 36.6s\tremaining: 2m 37s\n",
      "119:\tlearn: 0.4287608\ttest: 0.6567826\tbest: 0.6559683 (116)\ttotal: 36.9s\tremaining: 2m 36s\n",
      "120:\tlearn: 0.4280219\ttest: 0.6563628\tbest: 0.6559683 (116)\ttotal: 37.2s\tremaining: 2m 36s\n",
      "121:\tlearn: 0.4276272\ttest: 0.6567028\tbest: 0.6559683 (116)\ttotal: 37.4s\tremaining: 2m 35s\n",
      "122:\tlearn: 0.4271794\ttest: 0.6563909\tbest: 0.6559683 (116)\ttotal: 37.6s\tremaining: 2m 34s\n",
      "123:\tlearn: 0.4268039\ttest: 0.6567490\tbest: 0.6559683 (116)\ttotal: 37.8s\tremaining: 2m 34s\n",
      "124:\tlearn: 0.4261011\ttest: 0.6561574\tbest: 0.6559683 (116)\ttotal: 38s\tremaining: 2m 33s\n",
      "125:\tlearn: 0.4255739\ttest: 0.6558904\tbest: 0.6558904 (125)\ttotal: 38.2s\tremaining: 2m 32s\n",
      "126:\tlearn: 0.4250730\ttest: 0.6561175\tbest: 0.6558904 (125)\ttotal: 38.5s\tremaining: 2m 32s\n",
      "127:\tlearn: 0.4245591\ttest: 0.6557298\tbest: 0.6557298 (127)\ttotal: 38.7s\tremaining: 2m 31s\n",
      "128:\tlearn: 0.4242391\ttest: 0.6557728\tbest: 0.6557298 (127)\ttotal: 39s\tremaining: 2m 31s\n",
      "129:\tlearn: 0.4239646\ttest: 0.6557291\tbest: 0.6557291 (129)\ttotal: 39.2s\tremaining: 2m 30s\n",
      "130:\tlearn: 0.4234553\ttest: 0.6555735\tbest: 0.6555735 (130)\ttotal: 39.5s\tremaining: 2m 30s\n",
      "131:\tlearn: 0.4229968\ttest: 0.6553588\tbest: 0.6553588 (131)\ttotal: 39.7s\tremaining: 2m 29s\n",
      "132:\tlearn: 0.4228679\ttest: 0.6552477\tbest: 0.6552477 (132)\ttotal: 40s\tremaining: 2m 29s\n",
      "133:\tlearn: 0.4223908\ttest: 0.6554120\tbest: 0.6552477 (132)\ttotal: 40.2s\tremaining: 2m 28s\n",
      "134:\tlearn: 0.4219077\ttest: 0.6553446\tbest: 0.6552477 (132)\ttotal: 40.4s\tremaining: 2m 28s\n",
      "135:\tlearn: 0.4213968\ttest: 0.6548898\tbest: 0.6548898 (135)\ttotal: 40.6s\tremaining: 2m 27s\n",
      "136:\tlearn: 0.4203805\ttest: 0.6550396\tbest: 0.6548898 (135)\ttotal: 40.9s\tremaining: 2m 27s\n",
      "137:\tlearn: 0.4201123\ttest: 0.6551759\tbest: 0.6548898 (135)\ttotal: 41.1s\tremaining: 2m 26s\n",
      "138:\tlearn: 0.4190195\ttest: 0.6556138\tbest: 0.6548898 (135)\ttotal: 41.3s\tremaining: 2m 26s\n",
      "139:\tlearn: 0.4187446\ttest: 0.6554547\tbest: 0.6548898 (135)\ttotal: 41.6s\tremaining: 2m 25s\n",
      "140:\tlearn: 0.4184309\ttest: 0.6557260\tbest: 0.6548898 (135)\ttotal: 41.8s\tremaining: 2m 24s\n",
      "141:\tlearn: 0.4179028\ttest: 0.6553387\tbest: 0.6548898 (135)\ttotal: 42s\tremaining: 2m 24s\n",
      "142:\tlearn: 0.4177068\ttest: 0.6552477\tbest: 0.6548898 (135)\ttotal: 42.2s\tremaining: 2m 23s\n",
      "143:\tlearn: 0.4171814\ttest: 0.6550771\tbest: 0.6548898 (135)\ttotal: 42.5s\tremaining: 2m 23s\n",
      "144:\tlearn: 0.4167296\ttest: 0.6543126\tbest: 0.6543126 (144)\ttotal: 42.7s\tremaining: 2m 22s\n",
      "145:\tlearn: 0.4162620\ttest: 0.6542988\tbest: 0.6542988 (145)\ttotal: 42.9s\tremaining: 2m 22s\n",
      "146:\tlearn: 0.4158249\ttest: 0.6532314\tbest: 0.6532314 (146)\ttotal: 43.1s\tremaining: 2m 21s\n",
      "147:\tlearn: 0.4156082\ttest: 0.6522815\tbest: 0.6522815 (147)\ttotal: 43.4s\tremaining: 2m 21s\n",
      "148:\tlearn: 0.4153049\ttest: 0.6522920\tbest: 0.6522815 (147)\ttotal: 43.6s\tremaining: 2m 20s\n",
      "149:\tlearn: 0.4149126\ttest: 0.6523696\tbest: 0.6522815 (147)\ttotal: 43.8s\tremaining: 2m 20s\n",
      "150:\tlearn: 0.4146184\ttest: 0.6526618\tbest: 0.6522815 (147)\ttotal: 44s\tremaining: 2m 19s\n",
      "151:\tlearn: 0.4142872\ttest: 0.6526942\tbest: 0.6522815 (147)\ttotal: 44.3s\tremaining: 2m 19s\n",
      "152:\tlearn: 0.4139414\ttest: 0.6524042\tbest: 0.6522815 (147)\ttotal: 44.5s\tremaining: 2m 18s\n",
      "153:\tlearn: 0.4136006\ttest: 0.6528887\tbest: 0.6522815 (147)\ttotal: 44.7s\tremaining: 2m 18s\n",
      "154:\tlearn: 0.4131608\ttest: 0.6517770\tbest: 0.6517770 (154)\ttotal: 45s\tremaining: 2m 17s\n",
      "155:\tlearn: 0.4128231\ttest: 0.6519642\tbest: 0.6517770 (154)\ttotal: 45.2s\tremaining: 2m 17s\n",
      "156:\tlearn: 0.4124886\ttest: 0.6516587\tbest: 0.6516587 (156)\ttotal: 45.4s\tremaining: 2m 16s\n",
      "157:\tlearn: 0.4117828\ttest: 0.6512973\tbest: 0.6512973 (157)\ttotal: 45.6s\tremaining: 2m 16s\n",
      "158:\tlearn: 0.4112445\ttest: 0.6509366\tbest: 0.6509366 (158)\ttotal: 45.8s\tremaining: 2m 15s\n",
      "159:\tlearn: 0.4110983\ttest: 0.6509950\tbest: 0.6509366 (158)\ttotal: 46s\tremaining: 2m 15s\n",
      "160:\tlearn: 0.4108924\ttest: 0.6499015\tbest: 0.6499015 (160)\ttotal: 46.2s\tremaining: 2m 14s\n",
      "161:\tlearn: 0.4104474\ttest: 0.6498939\tbest: 0.6498939 (161)\ttotal: 46.4s\tremaining: 2m 14s\n",
      "162:\tlearn: 0.4101249\ttest: 0.6480925\tbest: 0.6480925 (162)\ttotal: 46.6s\tremaining: 2m 13s\n",
      "163:\tlearn: 0.4098027\ttest: 0.6480464\tbest: 0.6480464 (163)\ttotal: 46.9s\tremaining: 2m 13s\n",
      "164:\tlearn: 0.4091895\ttest: 0.6477440\tbest: 0.6477440 (164)\ttotal: 47.1s\tremaining: 2m 12s\n",
      "165:\tlearn: 0.4089651\ttest: 0.6475624\tbest: 0.6475624 (165)\ttotal: 47.3s\tremaining: 2m 12s\n",
      "166:\tlearn: 0.4085890\ttest: 0.6474934\tbest: 0.6474934 (166)\ttotal: 47.5s\tremaining: 2m 11s\n",
      "167:\tlearn: 0.4083667\ttest: 0.6472780\tbest: 0.6472780 (167)\ttotal: 47.8s\tremaining: 2m 11s\n",
      "168:\tlearn: 0.4080474\ttest: 0.6473444\tbest: 0.6472780 (167)\ttotal: 48s\tremaining: 2m 10s\n",
      "169:\tlearn: 0.4077811\ttest: 0.6484293\tbest: 0.6472780 (167)\ttotal: 48.3s\tremaining: 2m 10s\n",
      "170:\tlearn: 0.4074356\ttest: 0.6485955\tbest: 0.6472780 (167)\ttotal: 48.5s\tremaining: 2m 10s\n",
      "171:\tlearn: 0.4071489\ttest: 0.6485384\tbest: 0.6472780 (167)\ttotal: 48.7s\tremaining: 2m 9s\n",
      "172:\tlearn: 0.4067653\ttest: 0.6484124\tbest: 0.6472780 (167)\ttotal: 48.9s\tremaining: 2m 9s\n",
      "173:\tlearn: 0.4062653\ttest: 0.6526459\tbest: 0.6472780 (167)\ttotal: 49.1s\tremaining: 2m 8s\n",
      "174:\tlearn: 0.4060856\ttest: 0.6592421\tbest: 0.6472780 (167)\ttotal: 49.4s\tremaining: 2m 8s\n",
      "175:\tlearn: 0.4058263\ttest: 0.6593339\tbest: 0.6472780 (167)\ttotal: 49.6s\tremaining: 2m 7s\n",
      "176:\tlearn: 0.4053863\ttest: 0.6576279\tbest: 0.6472780 (167)\ttotal: 49.8s\tremaining: 2m 7s\n",
      "177:\tlearn: 0.4050924\ttest: 0.6576399\tbest: 0.6472780 (167)\ttotal: 50s\tremaining: 2m 6s\n",
      "178:\tlearn: 0.4049237\ttest: 0.6576285\tbest: 0.6472780 (167)\ttotal: 50.4s\tremaining: 2m 6s\n",
      "179:\tlearn: 0.4046098\ttest: 0.6575264\tbest: 0.6472780 (167)\ttotal: 50.7s\tremaining: 2m 6s\n",
      "180:\tlearn: 0.4043192\ttest: 0.6573658\tbest: 0.6472780 (167)\ttotal: 51.1s\tremaining: 2m 6s\n",
      "181:\tlearn: 0.4039690\ttest: 0.6573220\tbest: 0.6472780 (167)\ttotal: 51.4s\tremaining: 2m 6s\n",
      "182:\tlearn: 0.4037400\ttest: 0.6571294\tbest: 0.6472780 (167)\ttotal: 51.8s\tremaining: 2m 6s\n",
      "183:\tlearn: 0.4035701\ttest: 0.6571067\tbest: 0.6472780 (167)\ttotal: 52.1s\tremaining: 2m 6s\n",
      "184:\tlearn: 0.4032743\ttest: 0.6554589\tbest: 0.6472780 (167)\ttotal: 52.5s\tremaining: 2m 6s\n",
      "185:\tlearn: 0.4030103\ttest: 0.6554604\tbest: 0.6472780 (167)\ttotal: 52.9s\tremaining: 2m 6s\n",
      "186:\tlearn: 0.4028423\ttest: 0.6555913\tbest: 0.6472780 (167)\ttotal: 53.2s\tremaining: 2m 6s\n",
      "187:\tlearn: 0.4026970\ttest: 0.6556654\tbest: 0.6472780 (167)\ttotal: 53.5s\tremaining: 2m 5s\n",
      "188:\tlearn: 0.4016122\ttest: 0.6557374\tbest: 0.6472780 (167)\ttotal: 53.8s\tremaining: 2m 5s\n",
      "189:\tlearn: 0.4012855\ttest: 0.6557397\tbest: 0.6472780 (167)\ttotal: 54.1s\tremaining: 2m 5s\n",
      "190:\tlearn: 0.4010943\ttest: 0.6555646\tbest: 0.6472780 (167)\ttotal: 54.5s\tremaining: 2m 5s\n",
      "191:\tlearn: 0.4008964\ttest: 0.6554437\tbest: 0.6472780 (167)\ttotal: 54.8s\tremaining: 2m 5s\n",
      "192:\tlearn: 0.4005978\ttest: 0.6560096\tbest: 0.6472780 (167)\ttotal: 55.3s\tremaining: 2m 5s\n",
      "193:\tlearn: 0.4004450\ttest: 0.6551412\tbest: 0.6472780 (167)\ttotal: 55.6s\tremaining: 2m 5s\n",
      "194:\tlearn: 0.4002255\ttest: 0.6548842\tbest: 0.6472780 (167)\ttotal: 56s\tremaining: 2m 4s\n",
      "195:\tlearn: 0.3998402\ttest: 0.6546199\tbest: 0.6472780 (167)\ttotal: 56.3s\tremaining: 2m 4s\n",
      "196:\tlearn: 0.3996253\ttest: 0.6541265\tbest: 0.6472780 (167)\ttotal: 56.6s\tremaining: 2m 4s\n",
      "197:\tlearn: 0.3992952\ttest: 0.6541012\tbest: 0.6472780 (167)\ttotal: 56.9s\tremaining: 2m 4s\n",
      "198:\tlearn: 0.3990059\ttest: 0.6544446\tbest: 0.6472780 (167)\ttotal: 57.1s\tremaining: 2m 3s\n",
      "199:\tlearn: 0.3987412\ttest: 0.6542957\tbest: 0.6472780 (167)\ttotal: 57.4s\tremaining: 2m 3s\n",
      "200:\tlearn: 0.3984177\ttest: 0.6538143\tbest: 0.6472780 (167)\ttotal: 57.7s\tremaining: 2m 3s\n",
      "201:\tlearn: 0.3980474\ttest: 0.6544992\tbest: 0.6472780 (167)\ttotal: 58s\tremaining: 2m 2s\n",
      "202:\tlearn: 0.3979005\ttest: 0.6544359\tbest: 0.6472780 (167)\ttotal: 58.4s\tremaining: 2m 2s\n",
      "203:\tlearn: 0.3976810\ttest: 0.6543783\tbest: 0.6472780 (167)\ttotal: 58.7s\tremaining: 2m 2s\n",
      "204:\tlearn: 0.3972906\ttest: 0.6543652\tbest: 0.6472780 (167)\ttotal: 59s\tremaining: 2m 2s\n",
      "205:\tlearn: 0.3972289\ttest: 0.6543411\tbest: 0.6472780 (167)\ttotal: 59.3s\tremaining: 2m 2s\n",
      "206:\tlearn: 0.3970725\ttest: 0.6542569\tbest: 0.6472780 (167)\ttotal: 59.6s\tremaining: 2m 1s\n",
      "207:\tlearn: 0.3969224\ttest: 0.6542795\tbest: 0.6472780 (167)\ttotal: 60s\tremaining: 2m 1s\n",
      "208:\tlearn: 0.3966314\ttest: 0.6542783\tbest: 0.6472780 (167)\ttotal: 1m\tremaining: 2m 1s\n",
      "209:\tlearn: 0.3962733\ttest: 0.6563192\tbest: 0.6472780 (167)\ttotal: 1m\tremaining: 2m 1s\n",
      "210:\tlearn: 0.3961323\ttest: 0.6566441\tbest: 0.6472780 (167)\ttotal: 1m 1s\tremaining: 2m 1s\n",
      "211:\tlearn: 0.3959340\ttest: 0.6565053\tbest: 0.6472780 (167)\ttotal: 1m 1s\tremaining: 2m 1s\n",
      "212:\tlearn: 0.3956231\ttest: 0.6565403\tbest: 0.6472780 (167)\ttotal: 1m 1s\tremaining: 2m\n",
      "213:\tlearn: 0.3954206\ttest: 0.6564314\tbest: 0.6472780 (167)\ttotal: 1m 2s\tremaining: 2m\n",
      "214:\tlearn: 0.3951428\ttest: 0.6564463\tbest: 0.6472780 (167)\ttotal: 1m 2s\tremaining: 2m\n",
      "215:\tlearn: 0.3946851\ttest: 0.6544046\tbest: 0.6472780 (167)\ttotal: 1m 2s\tremaining: 2m\n",
      "216:\tlearn: 0.3945250\ttest: 0.6542147\tbest: 0.6472780 (167)\ttotal: 1m 3s\tremaining: 2m\n",
      "217:\tlearn: 0.3942384\ttest: 0.6540810\tbest: 0.6472780 (167)\ttotal: 1m 3s\tremaining: 1m 59s\n",
      "218:\tlearn: 0.3938856\ttest: 0.6539798\tbest: 0.6472780 (167)\ttotal: 1m 3s\tremaining: 1m 59s\n",
      "219:\tlearn: 0.3935958\ttest: 0.6541198\tbest: 0.6472780 (167)\ttotal: 1m 4s\tremaining: 1m 59s\n",
      "220:\tlearn: 0.3933833\ttest: 0.6534331\tbest: 0.6472780 (167)\ttotal: 1m 4s\tremaining: 1m 59s\n",
      "221:\tlearn: 0.3932574\ttest: 0.6534512\tbest: 0.6472780 (167)\ttotal: 1m 4s\tremaining: 1m 59s\n",
      "222:\tlearn: 0.3931164\ttest: 0.6532268\tbest: 0.6472780 (167)\ttotal: 1m 5s\tremaining: 1m 58s\n",
      "223:\tlearn: 0.3929281\ttest: 0.6532849\tbest: 0.6472780 (167)\ttotal: 1m 5s\tremaining: 1m 58s\n",
      "224:\tlearn: 0.3926255\ttest: 0.6530470\tbest: 0.6472780 (167)\ttotal: 1m 5s\tremaining: 1m 58s\n",
      "225:\tlearn: 0.3924564\ttest: 0.6537414\tbest: 0.6472780 (167)\ttotal: 1m 6s\tremaining: 1m 58s\n",
      "226:\tlearn: 0.3922547\ttest: 0.6556306\tbest: 0.6472780 (167)\ttotal: 1m 6s\tremaining: 1m 57s\n",
      "227:\tlearn: 0.3920485\ttest: 0.6580591\tbest: 0.6472780 (167)\ttotal: 1m 6s\tremaining: 1m 57s\n",
      "228:\tlearn: 0.3917065\ttest: 0.6577986\tbest: 0.6472780 (167)\ttotal: 1m 6s\tremaining: 1m 57s\n",
      "229:\tlearn: 0.3915511\ttest: 0.6578578\tbest: 0.6472780 (167)\ttotal: 1m 7s\tremaining: 1m 56s\n",
      "230:\tlearn: 0.3914032\ttest: 0.6578773\tbest: 0.6472780 (167)\ttotal: 1m 7s\tremaining: 1m 56s\n",
      "231:\tlearn: 0.3911895\ttest: 0.6578279\tbest: 0.6472780 (167)\ttotal: 1m 7s\tremaining: 1m 56s\n",
      "232:\tlearn: 0.3910303\ttest: 0.6576620\tbest: 0.6472780 (167)\ttotal: 1m 8s\tremaining: 1m 56s\n",
      "233:\tlearn: 0.3908975\ttest: 0.6573385\tbest: 0.6472780 (167)\ttotal: 1m 8s\tremaining: 1m 56s\n",
      "234:\tlearn: 0.3904459\ttest: 0.6575059\tbest: 0.6472780 (167)\ttotal: 1m 8s\tremaining: 1m 55s\n",
      "235:\tlearn: 0.3902479\ttest: 0.6574962\tbest: 0.6472780 (167)\ttotal: 1m 9s\tremaining: 1m 55s\n",
      "236:\tlearn: 0.3901211\ttest: 0.6575005\tbest: 0.6472780 (167)\ttotal: 1m 9s\tremaining: 1m 55s\n",
      "237:\tlearn: 0.3898763\ttest: 0.6581461\tbest: 0.6472780 (167)\ttotal: 1m 9s\tremaining: 1m 55s\n",
      "Stopped by overfitting detector  (70 iterations wait)\n",
      "\n",
      "bestTest = 0.6472779778\n",
      "bestIteration = 167\n",
      "\n",
      "Shrink model to first 168 iterations.\n"
     ]
    },
    {
     "data": {
      "text/html": [
       "<style>#sk-container-id-2 {color: black;}#sk-container-id-2 pre{padding: 0;}#sk-container-id-2 div.sk-toggleable {background-color: white;}#sk-container-id-2 label.sk-toggleable__label {cursor: pointer;display: block;width: 100%;margin-bottom: 0;padding: 0.3em;box-sizing: border-box;text-align: center;}#sk-container-id-2 label.sk-toggleable__label-arrow:before {content: \"▸\";float: left;margin-right: 0.25em;color: #696969;}#sk-container-id-2 label.sk-toggleable__label-arrow:hover:before {color: black;}#sk-container-id-2 div.sk-estimator:hover label.sk-toggleable__label-arrow:before {color: black;}#sk-container-id-2 div.sk-toggleable__content {max-height: 0;max-width: 0;overflow: hidden;text-align: left;background-color: #f0f8ff;}#sk-container-id-2 div.sk-toggleable__content pre {margin: 0.2em;color: black;border-radius: 0.25em;background-color: #f0f8ff;}#sk-container-id-2 input.sk-toggleable__control:checked~div.sk-toggleable__content {max-height: 200px;max-width: 100%;overflow: auto;}#sk-container-id-2 input.sk-toggleable__control:checked~label.sk-toggleable__label-arrow:before {content: \"▾\";}#sk-container-id-2 div.sk-estimator input.sk-toggleable__control:checked~label.sk-toggleable__label {background-color: #d4ebff;}#sk-container-id-2 div.sk-label input.sk-toggleable__control:checked~label.sk-toggleable__label {background-color: #d4ebff;}#sk-container-id-2 input.sk-hidden--visually {border: 0;clip: rect(1px 1px 1px 1px);clip: rect(1px, 1px, 1px, 1px);height: 1px;margin: -1px;overflow: hidden;padding: 0;position: absolute;width: 1px;}#sk-container-id-2 div.sk-estimator {font-family: monospace;background-color: #f0f8ff;border: 1px dotted black;border-radius: 0.25em;box-sizing: border-box;margin-bottom: 0.5em;}#sk-container-id-2 div.sk-estimator:hover {background-color: #d4ebff;}#sk-container-id-2 div.sk-parallel-item::after {content: \"\";width: 100%;border-bottom: 1px solid gray;flex-grow: 1;}#sk-container-id-2 div.sk-label:hover label.sk-toggleable__label {background-color: #d4ebff;}#sk-container-id-2 div.sk-serial::before {content: \"\";position: absolute;border-left: 1px solid gray;box-sizing: border-box;top: 0;bottom: 0;left: 50%;z-index: 0;}#sk-container-id-2 div.sk-serial {display: flex;flex-direction: column;align-items: center;background-color: white;padding-right: 0.2em;padding-left: 0.2em;position: relative;}#sk-container-id-2 div.sk-item {position: relative;z-index: 1;}#sk-container-id-2 div.sk-parallel {display: flex;align-items: stretch;justify-content: center;background-color: white;position: relative;}#sk-container-id-2 div.sk-item::before, #sk-container-id-2 div.sk-parallel-item::before {content: \"\";position: absolute;border-left: 1px solid gray;box-sizing: border-box;top: 0;bottom: 0;left: 50%;z-index: -1;}#sk-container-id-2 div.sk-parallel-item {display: flex;flex-direction: column;z-index: 1;position: relative;background-color: white;}#sk-container-id-2 div.sk-parallel-item:first-child::after {align-self: flex-end;width: 50%;}#sk-container-id-2 div.sk-parallel-item:last-child::after {align-self: flex-start;width: 50%;}#sk-container-id-2 div.sk-parallel-item:only-child::after {width: 0;}#sk-container-id-2 div.sk-dashed-wrapped {border: 1px dashed gray;margin: 0 0.4em 0.5em 0.4em;box-sizing: border-box;padding-bottom: 0.4em;background-color: white;}#sk-container-id-2 div.sk-label label {font-family: monospace;font-weight: bold;display: inline-block;line-height: 1.2em;}#sk-container-id-2 div.sk-label-container {text-align: center;}#sk-container-id-2 div.sk-container {/* jupyter's `normalize.less` sets `[hidden] { display: none; }` but bootstrap.min.css set `[hidden] { display: none !important; }` so we also need the `!important` here to be able to override the default hidden behavior on the sphinx rendered scikit-learn.org. See: https://github.com/scikit-learn/scikit-learn/issues/21755 */display: inline-block !important;position: relative;}#sk-container-id-2 div.sk-text-repr-fallback {display: none;}</style><div id=\"sk-container-id-2\" class=\"sk-top-container\"><div class=\"sk-text-repr-fallback\"><pre>Pipeline(steps=[(&#x27;merge prophet&#x27;,\n",
       "                 FunctionTransformer(func=&lt;function _merge_prophet at 0x000002D7896A60E0&gt;)),\n",
       "                (&#x27;merge external&#x27;,\n",
       "                 FunctionTransformer(func=&lt;function _merge_external_data at 0x000002D78C67A560&gt;)),\n",
       "                (&#x27;gas prices encoder&#x27;,\n",
       "                 FunctionTransformer(func=&lt;function _gas_price_encoder at 0x000002D78C67AD40&gt;)),\n",
       "                (&#x27;covid encoder&#x27;,\n",
       "                 FunctionTransformer(func=&lt;function _encode_covid at 0x000002D78C67BAC0&gt;)),\n",
       "                (&#x27;date encoder&#x27;,\n",
       "                 FunctionTransformer(func=&lt;function _encode_dates at 0x000002D78C6784C0&gt;)),\n",
       "                (&#x27;regressor&#x27;,\n",
       "                 &lt;catboost.core.CatBoostRegressor object at 0x000002D790F01360&gt;)])</pre><b>In a Jupyter environment, please rerun this cell to show the HTML representation or trust the notebook. <br />On GitHub, the HTML representation is unable to render, please try loading this page with nbviewer.org.</b></div><div class=\"sk-container\" hidden><div class=\"sk-item sk-dashed-wrapped\"><div class=\"sk-label-container\"><div class=\"sk-label sk-toggleable\"><input class=\"sk-toggleable__control sk-hidden--visually\" id=\"sk-estimator-id-8\" type=\"checkbox\" ><label for=\"sk-estimator-id-8\" class=\"sk-toggleable__label sk-toggleable__label-arrow\">Pipeline</label><div class=\"sk-toggleable__content\"><pre>Pipeline(steps=[(&#x27;merge prophet&#x27;,\n",
       "                 FunctionTransformer(func=&lt;function _merge_prophet at 0x000002D7896A60E0&gt;)),\n",
       "                (&#x27;merge external&#x27;,\n",
       "                 FunctionTransformer(func=&lt;function _merge_external_data at 0x000002D78C67A560&gt;)),\n",
       "                (&#x27;gas prices encoder&#x27;,\n",
       "                 FunctionTransformer(func=&lt;function _gas_price_encoder at 0x000002D78C67AD40&gt;)),\n",
       "                (&#x27;covid encoder&#x27;,\n",
       "                 FunctionTransformer(func=&lt;function _encode_covid at 0x000002D78C67BAC0&gt;)),\n",
       "                (&#x27;date encoder&#x27;,\n",
       "                 FunctionTransformer(func=&lt;function _encode_dates at 0x000002D78C6784C0&gt;)),\n",
       "                (&#x27;regressor&#x27;,\n",
       "                 &lt;catboost.core.CatBoostRegressor object at 0x000002D790F01360&gt;)])</pre></div></div></div><div class=\"sk-serial\"><div class=\"sk-item\"><div class=\"sk-estimator sk-toggleable\"><input class=\"sk-toggleable__control sk-hidden--visually\" id=\"sk-estimator-id-9\" type=\"checkbox\" ><label for=\"sk-estimator-id-9\" class=\"sk-toggleable__label sk-toggleable__label-arrow\">FunctionTransformer</label><div class=\"sk-toggleable__content\"><pre>FunctionTransformer(func=&lt;function _merge_prophet at 0x000002D7896A60E0&gt;)</pre></div></div></div><div class=\"sk-item\"><div class=\"sk-estimator sk-toggleable\"><input class=\"sk-toggleable__control sk-hidden--visually\" id=\"sk-estimator-id-10\" type=\"checkbox\" ><label for=\"sk-estimator-id-10\" class=\"sk-toggleable__label sk-toggleable__label-arrow\">FunctionTransformer</label><div class=\"sk-toggleable__content\"><pre>FunctionTransformer(func=&lt;function _merge_external_data at 0x000002D78C67A560&gt;)</pre></div></div></div><div class=\"sk-item\"><div class=\"sk-estimator sk-toggleable\"><input class=\"sk-toggleable__control sk-hidden--visually\" id=\"sk-estimator-id-11\" type=\"checkbox\" ><label for=\"sk-estimator-id-11\" class=\"sk-toggleable__label sk-toggleable__label-arrow\">FunctionTransformer</label><div class=\"sk-toggleable__content\"><pre>FunctionTransformer(func=&lt;function _gas_price_encoder at 0x000002D78C67AD40&gt;)</pre></div></div></div><div class=\"sk-item\"><div class=\"sk-estimator sk-toggleable\"><input class=\"sk-toggleable__control sk-hidden--visually\" id=\"sk-estimator-id-12\" type=\"checkbox\" ><label for=\"sk-estimator-id-12\" class=\"sk-toggleable__label sk-toggleable__label-arrow\">FunctionTransformer</label><div class=\"sk-toggleable__content\"><pre>FunctionTransformer(func=&lt;function _encode_covid at 0x000002D78C67BAC0&gt;)</pre></div></div></div><div class=\"sk-item\"><div class=\"sk-estimator sk-toggleable\"><input class=\"sk-toggleable__control sk-hidden--visually\" id=\"sk-estimator-id-13\" type=\"checkbox\" ><label for=\"sk-estimator-id-13\" class=\"sk-toggleable__label sk-toggleable__label-arrow\">FunctionTransformer</label><div class=\"sk-toggleable__content\"><pre>FunctionTransformer(func=&lt;function _encode_dates at 0x000002D78C6784C0&gt;)</pre></div></div></div><div class=\"sk-item\"><div class=\"sk-estimator sk-toggleable\"><input class=\"sk-toggleable__control sk-hidden--visually\" id=\"sk-estimator-id-14\" type=\"checkbox\" ><label for=\"sk-estimator-id-14\" class=\"sk-toggleable__label sk-toggleable__label-arrow\">CatBoostRegressor</label><div class=\"sk-toggleable__content\"><pre>&lt;catboost.core.CatBoostRegressor object at 0x000002D790F01360&gt;</pre></div></div></div></div></div></div></div>"
      ],
      "text/plain": [
       "Pipeline(steps=[('merge prophet',\n",
       "                 FunctionTransformer(func=<function _merge_prophet at 0x000002D7896A60E0>)),\n",
       "                ('merge external',\n",
       "                 FunctionTransformer(func=<function _merge_external_data at 0x000002D78C67A560>)),\n",
       "                ('gas prices encoder',\n",
       "                 FunctionTransformer(func=<function _gas_price_encoder at 0x000002D78C67AD40>)),\n",
       "                ('covid encoder',\n",
       "                 FunctionTransformer(func=<function _encode_covid at 0x000002D78C67BAC0>)),\n",
       "                ('date encoder',\n",
       "                 FunctionTransformer(func=<function _encode_dates at 0x000002D78C6784C0>)),\n",
       "                ('regressor',\n",
       "                 <catboost.core.CatBoostRegressor object at 0x000002D790F01360>)])"
      ]
     },
     "execution_count": 89,
     "metadata": {},
     "output_type": "execute_result"
    }
   ],
   "source": [
    "pipe = get_pipeline()\n",
    "\n",
    "val_pool = Pool(\n",
    "    full_encode(X_test),\n",
    "    label=y_test,\n",
    "    cat_features=categorical_cols,\n",
    ")\n",
    "\n",
    "pipe.fit(\n",
    "    X_train,\n",
    "    y_train,\n",
    "    regressor__cat_features=categorical_cols,\n",
    "    regressor__early_stopping_rounds=70,\n",
    "    regressor__eval_set=val_pool,\n",
    ")"
   ]
  },
  {
   "cell_type": "code",
   "execution_count": 90,
   "id": "bc440cac",
   "metadata": {},
   "outputs": [
    {
     "name": "stdout",
     "output_type": "stream",
     "text": [
      "Train set, RMSE=0.40\n",
      "Test set, RMSE=0.64\n"
     ]
    }
   ],
   "source": [
    "y_hat = pipe.predict(X_test)\n",
    "y_hat[y_hat < 0] = 0\n",
    "\n",
    "print(\n",
    "    f\"Train set, RMSE={mean_squared_error(y_train, pipe.predict(X_train), squared=False):.2f}\"\n",
    ")\n",
    "print(f\"Test set, RMSE={mean_squared_error(y_test, y_hat, squared=False):.2f}\")"
   ]
  }
 ],
 "metadata": {
  "kernelspec": {
   "display_name": "Python 3 (ipykernel)",
   "language": "python",
   "name": "python3"
  },
  "language_info": {
   "codemirror_mode": {
    "name": "ipython",
    "version": 3
   },
   "file_extension": ".py",
   "mimetype": "text/x-python",
   "name": "python",
   "nbconvert_exporter": "python",
   "pygments_lexer": "ipython3",
   "version": "3.10.9"
  }
 },
 "nbformat": 4,
 "nbformat_minor": 5
}
